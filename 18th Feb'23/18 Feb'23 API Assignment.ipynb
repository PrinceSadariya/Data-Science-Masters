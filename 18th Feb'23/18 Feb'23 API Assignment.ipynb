{
 "cells": [
  {
   "cell_type": "code",
   "execution_count": null,
   "id": "4deeb0ee",
   "metadata": {},
   "outputs": [],
   "source": [
    "# Q1. What is an API? Give an example, where an API is used in real life.\n",
    "\n",
    "# Ans.\n",
    "\n",
    "# API stands for Aplication Programing Interface\n",
    "# API allows two apllication to comunicate to each other\n",
    "\n",
    "# One example of use in real life is sharing flight information between airlines. "
   ]
  },
  {
   "cell_type": "code",
   "execution_count": null,
   "id": "e800ad5f",
   "metadata": {},
   "outputs": [],
   "source": [
    "# Q2. Give advantages and disadvantages of using API.\n",
    "\n",
    "# Ans.\n",
    "\n",
    "# Advatages\n",
    "# Improved Efficiency\n",
    "# Better User Experience\n",
    "# Increased Flexibility\n",
    "\n",
    "# Disadvantages\n",
    "# Security Concerns\n",
    "# Complexity\n"
   ]
  },
  {
   "cell_type": "code",
   "execution_count": null,
   "id": "a4a56e46",
   "metadata": {},
   "outputs": [],
   "source": [
    "# Q3. What is a Web API? Differentiate between API and Web API.\n",
    "\n",
    "# Ans.\n",
    "\n",
    "# A Web API is an api for the web.\n",
    "\n",
    "# API is used to communicate between two machines on a network. \n",
    "# Web API is used as an interface between two different applications for communicating with each other"
   ]
  },
  {
   "cell_type": "code",
   "execution_count": null,
   "id": "a61741c3",
   "metadata": {},
   "outputs": [],
   "source": [
    "# Q4. Explain REST and SOAP Architecture. Mention shortcomings of SOAP.\n",
    "\n",
    "# Ans.\n",
    "\n",
    "# REST\n",
    "# REST stands for representational State Transfer\n",
    "# RESTful API is an interface that two computer systems use to exchange information securely over the internet\n",
    "\n",
    "# SOAP\n",
    "# SOAP stands for Simple Object Access Proticol\n",
    "# SOAP is a standard messaging protocol that operating systems use to communicate via Hypertext Transfer Protocol (HTTP) and Extensible Markup Language (XML)\n",
    "\n",
    "# Shortcomings of SOAP\n",
    "# Extremely Complicated\n",
    "# No choice of data format\n",
    "# Requires more bandwidth"
   ]
  },
  {
   "cell_type": "code",
   "execution_count": null,
   "id": "3b39328d",
   "metadata": {},
   "outputs": [],
   "source": [
    "# Q5. Differentiate between REST and SOAP.\n",
    "\n",
    "# Ans.\n",
    "\n",
    "# SOAP stands for Simple Object Access Protocol whereas REST stands for Representational State Transfer.\n",
    "# SOAP is a protocol whereas REST is an architectural pattern.\n",
    "# SOAP needs more bandwidth for its usage whereas REST doesn’t need much bandwidth.\n",
    "# Comparing SOAP vs REST API, SOAP only works with XML formats whereas REST work with plain text, XML, HTML and JSON."
   ]
  }
 ],
 "metadata": {
  "kernelspec": {
   "display_name": "Python 3 (ipykernel)",
   "language": "python",
   "name": "python3"
  },
  "language_info": {
   "codemirror_mode": {
    "name": "ipython",
    "version": 3
   },
   "file_extension": ".py",
   "mimetype": "text/x-python",
   "name": "python",
   "nbconvert_exporter": "python",
   "pygments_lexer": "ipython3",
   "version": "3.10.0"
  }
 },
 "nbformat": 4,
 "nbformat_minor": 5
}
