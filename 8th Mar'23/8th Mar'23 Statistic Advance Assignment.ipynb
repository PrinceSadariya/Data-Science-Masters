{
 "cells": [
  {
   "cell_type": "markdown",
   "id": "2eef4db0",
   "metadata": {},
   "source": [
    "### Q1. What is the Probability density function?\n",
    "\n",
    "The Probability Density Function (PDF) is a fundamental concept in probability theory and statistics. It is used to describe the likelihood of a continuous random variable taking on a specific value within a certain range. In simpler terms, the PDF tells us how probable it is for a continuous random variable to fall within a particular interval."
   ]
  },
  {
   "cell_type": "markdown",
   "id": "09c260ca",
   "metadata": {},
   "source": [
    "### Q2. What are the types of Probability distribution?\n",
    "\n",
    "1. Normal/Gaussian Distribution\n",
    "2. Uniform Distribution\n",
    "3. Bernouli Distribution\n",
    "4. Binomial Distribution\n",
    "5. Log Normal Distribution\n",
    "6. Pareto Distribution\n",
    "7. Poisson Distribution"
   ]
  },
  {
   "cell_type": "markdown",
   "id": "df041904",
   "metadata": {},
   "source": [
    "### Q3. Write a Python function to calculate the probability density function of a normal distribution with given mean and standard deviation at a given point."
   ]
  },
  {
   "cell_type": "code",
   "execution_count": 1,
   "id": "43829388",
   "metadata": {},
   "outputs": [
    {
     "name": "stdout",
     "output_type": "stream",
     "text": [
      "0.17603266338214976\n"
     ]
    }
   ],
   "source": [
    "from scipy.stats import norm\n",
    "\n",
    "def pdf_normal(x,mean,std):\n",
    "    return norm.pdf(x,mean,std)\n",
    "\n",
    "print(pdf_normal(6,5,2))"
   ]
  },
  {
   "cell_type": "markdown",
   "id": "4b2554d0",
   "metadata": {},
   "source": [
    "### Q4. What are the properties of Binomial distribution? Give two examples of events where binomial distribution can be applied.\n",
    "\n",
    "The Binomial distribution is a probability distribution that models the number of successes in a fixed number of independent Bernoulli trials, where each trial has only two possible outcomes (usually labeled as success and failure). The Binomial distribution possesses the following properties:\n",
    "\n",
    "**Fixed Number of Trials (n):** The number of trials is fixed and known in advance.\n",
    "\n",
    "**Independent Trials:** The trials are independent of each other, meaning the outcome of one trial does not affect the outcome of another.\n",
    "\n",
    "**Constant Probability of Success (p):** The probability of success (p) remains constant for each trial. The probability of failure (1 - p) is also constant.\n",
    "\n",
    "**Discrete Distribution:** The Binomial distribution is a discrete distribution, as it deals with a count of successes.\n",
    "\n",
    "**Two Possible Outcomes:** Each trial can have only two possible outcomes (success or failure)."
   ]
  },
  {
   "cell_type": "markdown",
   "id": "79532beb",
   "metadata": {},
   "source": [
    "### Q5. Generate a random sample of size 1000 from a binomial distribution with probability of success 0.4 and plot a histogram of the results using matplotlib.\n"
   ]
  },
  {
   "cell_type": "code",
   "execution_count": 7,
   "id": "9dcd757c",
   "metadata": {},
   "outputs": [
    {
     "data": {
      "image/png": "[encoded data removed]",
      "text/plain": [
       "<Figure size 800x600 with 1 Axes>"
      ]
     },
     "metadata": {},
     "output_type": "display_data"
    }
   ],
   "source": [
    "import numpy as np\n",
    "import matplotlib.pyplot as plt\n",
    "\n",
    "n = 1000\n",
    "p = 0.4\n",
    "sample = np.random.binomial(n,p,size=1000)\n",
    "\n",
    "plt.figure(figsize=(8, 6))\n",
    "plt.hist(sample, bins=range(n + 2), align='left', rwidth=0.8, density=True)\n",
    "plt.show()"
   ]
  },
  {
   "cell_type": "markdown",
   "id": "3a2902cf",
   "metadata": {},
   "source": [
    "### Q6. Write a Python function to calculate the cumulative distribution function of a Poisson distribution with given mean at a given point."
   ]
  },
  {
   "cell_type": "code",
   "execution_count": 9,
   "id": "411907c4",
   "metadata": {},
   "outputs": [
    {
     "name": "stdout",
     "output_type": "stream",
     "text": [
      "0.8576135530957782\n"
     ]
    }
   ],
   "source": [
    "import math\n",
    "\n",
    "def cdf_poisson(k,mean):\n",
    "    cdf_value = 0.0\n",
    "    for i in range(k + 1):\n",
    "        cdf_value += (math.exp(-mean) * mean**i) / math.factorial(i)\n",
    "    return cdf_value\n",
    "\n",
    "\n",
    "mean = 3.5\n",
    "point = 5\n",
    "cdf_value = cdf_poisson(point, mean)\n",
    "print(cdf_value)"
   ]
  },
  {
   "cell_type": "markdown",
   "id": "fa33de29",
   "metadata": {},
   "source": [
    "### Q7. How Binomial distribution different from Poisson distribution?\n",
    "\n",
    "The Binomial distribution and the Poisson distribution are two distinct probability distributions used to model different types of random processes. While both distributions deal with the count of events, they have different underlying assumptions and characteristics."
   ]
  },
  {
   "cell_type": "markdown",
   "id": "e44be676",
   "metadata": {},
   "source": [
    "### Q8. Generate a random sample of size 1000 from a Poisson distribution with mean 5 and calculate the sample mean and variance."
   ]
  },
  {
   "cell_type": "code",
   "execution_count": 10,
   "id": "c3575551",
   "metadata": {},
   "outputs": [
    {
     "name": "stdout",
     "output_type": "stream",
     "text": [
      "Sample Mean: 5.007\n",
      "Sample Variance: 4.767718718718718\n"
     ]
    }
   ],
   "source": [
    "mean = 5\n",
    "sample_size = 1000\n",
    "\n",
    "random_sample = np.random.poisson(mean, size=sample_size)\n",
    "\n",
    "sample_mean = np.mean(random_sample)\n",
    "sample_variance = np.var(random_sample, ddof=1)  # Use ddof=1 for unbiased sample variance\n",
    "\n",
    "print(f\"Sample Mean: {sample_mean}\")\n",
    "print(f\"Sample Variance: {sample_variance}\")"
   ]
  },
  {
   "cell_type": "markdown",
   "id": "6f7a5725",
   "metadata": {},
   "source": [
    "### Q9. How mean and variance are related in Binomial distribution and Poisson distribution?\n",
    "\n",
    "The relationship between mean and variance in the Binomial distribution is that the variance is a function of the mean. Specifically, the variance is maximized when the probability of success (p) is 0.5, and it decreases as p approaches 0 or 1. When p is close to 0 or 1, the Binomial distribution becomes increasingly skewed, and the variance becomes smaller.\n",
    "\n",
    "The relationship between mean and variance in the Poisson distribution is that they are equal. Unlike the Binomial distribution, the variance of the Poisson distribution is not dependent on any other parameter; it is solely determined by the mean λ.\n",
    "\n",
    " the mean and variance are related differently in the Binomial and Poisson distributions. In the Binomial distribution, the variance depends on both the number of trials and the probability of success, while in the Poisson distribution, the variance is solely determined by the mean. Additionally, in the Poisson distribution, the mean and variance are equal, whereas in the Binomial distribution, they may not be equal except when p = 0.5."
   ]
  },
  {
   "cell_type": "markdown",
   "id": "5ee9077c",
   "metadata": {},
   "source": [
    "### Q10. In normal distribution with respect to mean position, where does the least frequent data appear?\n",
    "\n",
    "In a normal distribution, also known as a Gaussian distribution, the data is symmetrically distributed around the mean. The mean is the central point of the distribution, and it represents the average value of the data.\n",
    "\n",
    "In a normal distribution, the data points become less frequent as they move away from the mean in both directions. The data points are most frequent at the mean and gradually become less frequent as they move towards the tails of the distribution.\n",
    "\n",
    "The least frequent data appears in the tails of the normal distribution, which are the regions furthest away from the mean. These tails extend indefinitely in both directions, and the probability of data points being at extreme values decreases rapidly as they move away from the mean. In practical terms, data points that are several standard deviations away from the mean are extremely rare in a normal distribution."
   ]
  }
 ],
 "metadata": {
  "kernelspec": {
   "display_name": "Python 3 (ipykernel)",
   "language": "python",
   "name": "python3"
  },
  "language_info": {
   "codemirror_mode": {
    "name": "ipython",
    "version": 3
   },
   "file_extension": ".py",
   "mimetype": "text/x-python",
   "name": "python",
   "nbconvert_exporter": "python",
   "pygments_lexer": "ipython3",
   "version": "3.10.0"
  }
 },
 "nbformat": 4,
 "nbformat_minor": 5
}
