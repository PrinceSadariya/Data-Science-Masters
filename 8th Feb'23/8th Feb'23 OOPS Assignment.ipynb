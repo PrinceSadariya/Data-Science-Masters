{
 "cells": [
  {
   "cell_type": "code",
   "execution_count": null,
   "id": "af8167cf",
   "metadata": {},
   "outputs": [],
   "source": [
    "# Q1. What is Abstraction in OOps? Explain with an example.\n",
    "\n",
    "# Ans.\n",
    "\n",
    "# Abstract class is a blueprint in which neccessary function are declared (not implement)\n",
    "# Then after we can use those function in child classes\n",
    "# Abstract class have atleast one abstract method\n",
    "\n",
    "# Abstraction is the process of hiding the internal details of an application\n",
    "\n",
    "from abc import ABC,abstractmethod\n",
    "\n",
    "class Computer(ABC):\n",
    "    @abstractmethod\n",
    "    def process(self):\n",
    "        pass\n",
    "    \n",
    "class Laptop(Computer):\n",
    "    def process(self):\n",
    "        print(\"Processing...\")\n",
    "        \n",
    "lap = Laptop()\n",
    "\n",
    "lap.process()"
   ]
  },
  {
   "cell_type": "code",
   "execution_count": null,
   "id": "c19f3747",
   "metadata": {},
   "outputs": [],
   "source": [
    "# Q2. Differentiate between Abstraction and Encapsulation. Explain with an example.\n",
    "\n",
    "# Ans.\n",
    "\n",
    "# Abstraction is the process of hiding the internal details of an application\n",
    "# Where\n",
    "# Encapsulation is used to restrict access to methods and variables\n",
    "\n",
    "from abc import ABC,abstractmethod\n",
    "\n",
    "class Computer(ABC):\n",
    "    @abstractmethod\n",
    "    def process(self):\n",
    "        pass\n",
    "    \n",
    "class Laptop(Computer):\n",
    "    \n",
    "    def __init__(self,name,ram,gpu,storage):\n",
    "        self.__name = name\n",
    "        self.__ram = ram\n",
    "        self.__gpu = gpu\n",
    "        self.__storage = storage\n",
    "\n",
    "    def setLaptopDetails(self,name,ram,gpu,storage):\n",
    "        self.__name = name\n",
    "        self.__ram = ram\n",
    "        self.__gpu = gpu\n",
    "        self.__storage = storage\n",
    "    \n",
    "    def getLaptopDetails(self):\n",
    "        print(\"Laptop Name : \",self.__name)\n",
    "        print(\"Laptop RAM : \",self.__ram)\n",
    "        print(\"Laptop GPU : \",self.__gpu)\n",
    "        print(\"Laptop Storage : \",self.__storage)\n",
    "    \n",
    "    def process(self):\n",
    "        print(\"Processing...\")\n",
    "        \n",
    "lap = Laptop(\"Omen 15\",\"8 GB\",\"4 GB\",\"512 GB\")\n",
    "\n",
    "lap.getLaptopDetails()"
   ]
  },
  {
   "cell_type": "code",
   "execution_count": null,
   "id": "5e820c62",
   "metadata": {},
   "outputs": [],
   "source": [
    "# Q3. What is abc module in python? Why is it used?\n",
    "\n",
    "# Ans.\n",
    "\n",
    "# By default in python we can not create abstract classes\n",
    "# So overcome this issue we have abc module \n",
    "# from abc module we can create abstract class\n",
    "\n",
    "# we have to import ABC,abstractmethod from abc module \n",
    "\n",
    "# abc stands for abstract base classes"
   ]
  },
  {
   "cell_type": "code",
   "execution_count": null,
   "id": "c1167a3b",
   "metadata": {},
   "outputs": [],
   "source": [
    "# Q4. How can we achieve data abstraction?\n",
    "\n",
    "# Ans.\n",
    "\n",
    "# Data Abstraction is simplly process of hiding the internal details of an application\n",
    "\n",
    "# Data Abstraction can be achieved through creating abstract classes and inherit them later"
   ]
  },
  {
   "cell_type": "code",
   "execution_count": null,
   "id": "e419569c",
   "metadata": {},
   "outputs": [],
   "source": [
    "# Q5. Can we create an instance of an abstract class? Explain your answer.\n",
    "\n",
    "# Ans.\n",
    "\n",
    "# No we can not crate an instance of an abstract class\n",
    "\n",
    "# In abstract classes there are many abstract methods might be available\n",
    "# in abstract methods there are only declaration but not definition available\n",
    "# So abstract classes work as blueprint\n",
    "# So we can not create an instance of an abstract class"
   ]
  }
 ],
 "metadata": {
  "kernelspec": {
   "display_name": "Python 3 (ipykernel)",
   "language": "python",
   "name": "python3"
  },
  "language_info": {
   "codemirror_mode": {
    "name": "ipython",
    "version": 3
   },
   "file_extension": ".py",
   "mimetype": "text/x-python",
   "name": "python",
   "nbconvert_exporter": "python",
   "pygments_lexer": "ipython3",
   "version": "3.10.0"
  }
 },
 "nbformat": 4,
 "nbformat_minor": 5
}
