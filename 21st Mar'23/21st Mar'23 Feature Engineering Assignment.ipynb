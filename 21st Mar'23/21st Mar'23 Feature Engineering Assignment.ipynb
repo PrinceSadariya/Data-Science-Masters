{
 "cells": [
  {
   "cell_type": "code",
   "execution_count": null,
   "id": "f96d16b4",
   "metadata": {},
   "outputs": [],
   "source": [
    "# Q1. What is the difference between Ordinal Encoding and Label Encoding? Provide an example of when you\n",
    "# might choose one over the other.\n",
    "\n",
    "# Ans.\n",
    "\n",
    "# In ordinal encoding values are assigned based on the given order of category\n",
    "# In Label encoding values are assigned based on the alphabetical order of category"
   ]
  },
  {
   "cell_type": "code",
   "execution_count": null,
   "id": "fa174650",
   "metadata": {},
   "outputs": [],
   "source": [
    "# Q2. Explain how Target Guided Ordinal Encoding works and provide an example of when you might use it in\n",
    "# a machine learning project.\n",
    "\n",
    "# Ans.\n",
    "\n",
    "# arget Guided Ordinal Encoding is a technique used to encode categorical variables based on their relationship with the target variable in a supervised machine learning project. \n",
    "# It aims to capture the ordinal relationship between the categories and the target variable by assigning ordinal numerical values to the categories."
   ]
  },
  {
   "cell_type": "code",
   "execution_count": null,
   "id": "e5180d66",
   "metadata": {},
   "outputs": [],
   "source": [
    "# Q3. Define covariance and explain why it is important in statistical analysis. How is covariance calculated?\n",
    "\n",
    "# Ans.\n",
    "\n",
    "\n",
    "# Covariance is a statistical measure that quantifies the relationship and dependency between two variables. \n",
    "# It measures how changes in one variable correspond to changes in another variable. \n",
    "# Covariance provides insight into the direction (positive or negative) and strength of the relationship between variables."
   ]
  },
  {
   "cell_type": "code",
   "execution_count": 8,
   "id": "25a47de5",
   "metadata": {},
   "outputs": [
    {
     "data": {
      "text/html": [
       "<div>\n",
       "<style scoped>\n",
       "    .dataframe tbody tr th:only-of-type {\n",
       "        vertical-align: middle;\n",
       "    }\n",
       "\n",
       "    .dataframe tbody tr th {\n",
       "        vertical-align: top;\n",
       "    }\n",
       "\n",
       "    .dataframe thead th {\n",
       "        text-align: right;\n",
       "    }\n",
       "</style>\n",
       "<table border=\"1\" class=\"dataframe\">\n",
       "  <thead>\n",
       "    <tr style=\"text-align: right;\">\n",
       "      <th></th>\n",
       "      <th>color</th>\n",
       "      <th>size</th>\n",
       "      <th>material</th>\n",
       "      <th>color_encode</th>\n",
       "      <th>size_encode</th>\n",
       "      <th>material_encode</th>\n",
       "    </tr>\n",
       "  </thead>\n",
       "  <tbody>\n",
       "    <tr>\n",
       "      <th>0</th>\n",
       "      <td>red</td>\n",
       "      <td>small</td>\n",
       "      <td>wood</td>\n",
       "      <td>2</td>\n",
       "      <td>2</td>\n",
       "      <td>2</td>\n",
       "    </tr>\n",
       "    <tr>\n",
       "      <th>1</th>\n",
       "      <td>green</td>\n",
       "      <td>medium</td>\n",
       "      <td>metal</td>\n",
       "      <td>1</td>\n",
       "      <td>1</td>\n",
       "      <td>0</td>\n",
       "    </tr>\n",
       "    <tr>\n",
       "      <th>2</th>\n",
       "      <td>blue</td>\n",
       "      <td>large</td>\n",
       "      <td>plastic</td>\n",
       "      <td>0</td>\n",
       "      <td>0</td>\n",
       "      <td>1</td>\n",
       "    </tr>\n",
       "  </tbody>\n",
       "</table>\n",
       "</div>"
      ],
      "text/plain": [
       "   color    size material  color_encode  size_encode  material_encode\n",
       "0    red   small     wood             2            2                2\n",
       "1  green  medium    metal             1            1                0\n",
       "2   blue   large  plastic             0            0                1"
      ]
     },
     "execution_count": 8,
     "metadata": {},
     "output_type": "execute_result"
    }
   ],
   "source": [
    "# Q4. For a dataset with the following categorical variables: Color (red, green, blue), Size (small, medium,\n",
    "# large), and Material (wood, metal, plastic), perform label encoding using Python's scikit-learn library.\n",
    "# Show your code and explain the output.\n",
    "\n",
    "# Ans.\n",
    "\n",
    "import pandas as pd\n",
    "\n",
    "d1 = {\n",
    "    'color':['red', 'green', 'blue'],\n",
    "    'size':['small', 'medium','large'],\n",
    "    'material':['wood', 'metal', 'plastic']\n",
    "}\n",
    "\n",
    "df = pd.DataFrame(d1)\n",
    "\n",
    "from sklearn.preprocessing import LabelEncoder\n",
    "\n",
    "encoder = LabelEncoder()\n",
    "\n",
    "# Here we are doing encoding based on the color\n",
    "\n",
    "color_encoded_df = pd.DataFrame(encoder.fit_transform(df['color']),columns=['color_encode'])\n",
    "size_encoded_df = pd.DataFrame(encoder.fit_transform(df['size']),columns=['size_encode'])\n",
    "material_encoded_df = pd.DataFrame(encoder.fit_transform(df['material']),columns=['material_encode'])\n",
    "\n",
    "final_df = pd.concat([df,color_encoded_df,size_encoded_df,material_encoded_df],axis=1)\n",
    "final_df"
   ]
  },
  {
   "cell_type": "code",
   "execution_count": 9,
   "id": "29aae168",
   "metadata": {},
   "outputs": [
    {
     "data": {
      "text/plain": [
       "array([[6.25e+01, 1.25e+05, 2.50e+01],\n",
       "       [1.25e+05, 2.50e+08, 5.00e+04],\n",
       "       [2.50e+01, 5.00e+04, 1.00e+01]])"
      ]
     },
     "execution_count": 9,
     "metadata": {},
     "output_type": "execute_result"
    }
   ],
   "source": [
    "# Q5. Calculate the covariance matrix for the following variables in a dataset: Age, Income, and Education\n",
    "# level. Interpret the results.\n",
    "\n",
    "# Ans.\n",
    "\n",
    "import numpy as np\n",
    "\n",
    "age = [25, 30, 35, 40, 45]\n",
    "income = [50000, 60000, 70000, 80000, 90000]\n",
    "education = [12, 14, 16, 18, 20]\n",
    "\n",
    "data = np.array([age, income, education])\n",
    "\n",
    "covariance_matrix = np.cov(data)\n",
    "\n",
    "covariance_matrix"
   ]
  },
  {
   "cell_type": "code",
   "execution_count": null,
   "id": "f43db4fa",
   "metadata": {},
   "outputs": [],
   "source": [
    "# Q6. You are working on a machine learning project with a dataset containing several categorical\n",
    "# variables, including \"Gender\" (Male/Female), \"Education Level\" (High School/Bachelor's/Master's/PhD),\n",
    "# and \"Employment Status\" (Unemployed/Part-Time/Full-Time). Which encoding method would you use for\n",
    "# each variable, and why?\n",
    "\n",
    "# Ans.\n",
    "\n",
    "# Here we can perform OHE on Gender and Employement status , because it is not ordered data\n",
    "# and Education level is ordered data , so we can use ordinal encoding"
   ]
  },
  {
   "cell_type": "code",
   "execution_count": 10,
   "id": "ef486147",
   "metadata": {},
   "outputs": [
    {
     "name": "stdout",
     "output_type": "stream",
     "text": [
      "[[11.2  26.25 -1.3   3.65]\n",
      " [26.25 62.5  -2.5   8.75]\n",
      " [-1.3  -2.5   0.7  -0.35]\n",
      " [ 3.65  8.75 -0.35  1.3 ]]\n"
     ]
    }
   ],
   "source": [
    "# Q7. You are analyzing a dataset with two continuous variables, \"Temperature\" and \"Humidity\", and two\n",
    "# categorical variables, \"Weather Condition\" (Sunny/Cloudy/Rainy) and \"Wind Direction\" (North/South/\n",
    "# East/West). Calculate the covariance between each pair of variables and interpret the results.\n",
    "\n",
    "# Ans.\n",
    "\n",
    "import numpy as np\n",
    "from sklearn.preprocessing import LabelEncoder\n",
    "\n",
    "temperature = np.array([20, 25, 18, 22, 26])\n",
    "humidity = np.array([60, 70, 55, 65, 75])\n",
    "weather_condition = np.array(['Sunny', 'Cloudy', 'Rainy', 'Sunny', 'Rainy'])\n",
    "wind_direction = np.array(['North', 'South', 'East', 'North', 'West'])\n",
    "\n",
    "weather_encoder = LabelEncoder()\n",
    "wind_encoder = LabelEncoder()\n",
    "\n",
    "encoded_weather = weather_encoder.fit_transform(weather_condition)\n",
    "encoded_wind = wind_encoder.fit_transform(wind_direction)\n",
    "\n",
    "data = np.column_stack((temperature, humidity, encoded_weather, encoded_wind))\n",
    "covariance_matrix = np.cov(data.T)\n",
    "\n",
    "print(covariance_matrix)"
   ]
  },
  {
   "cell_type": "code",
   "execution_count": null,
   "id": "5e7ac98d",
   "metadata": {},
   "outputs": [],
   "source": []
  }
 ],
 "metadata": {
  "kernelspec": {
   "display_name": "Python 3 (ipykernel)",
   "language": "python",
   "name": "python3"
  },
  "language_info": {
   "codemirror_mode": {
    "name": "ipython",
    "version": 3
   },
   "file_extension": ".py",
   "mimetype": "text/x-python",
   "name": "python",
   "nbconvert_exporter": "python",
   "pygments_lexer": "ipython3",
   "version": "3.10.0"
  }
 },
 "nbformat": 4,
 "nbformat_minor": 5
}
