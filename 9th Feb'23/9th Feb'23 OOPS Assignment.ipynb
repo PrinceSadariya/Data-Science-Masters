{
 "cells": [
  {
   "cell_type": "code",
   "execution_count": null,
   "id": "edfd8665",
   "metadata": {},
   "outputs": [],
   "source": [
    "# Q1. Create a vehicle class with an init method having instance variables as name_of_vehicle, max_speed\n",
    "# and average_of_vehicle.\n",
    "\n",
    "# Ans.\n",
    "\n",
    "class Vehicle:\n",
    "    \n",
    "    def __init__(self,name,max_speed,average_speed):\n",
    "        self.name_of_vehicle = name\n",
    "        self.max_speed_of_vehicle = max_speed\n",
    "        self.average_speed_of_vehicle = average_speed"
   ]
  },
  {
   "cell_type": "code",
   "execution_count": null,
   "id": "eaaea55d",
   "metadata": {},
   "outputs": [],
   "source": [
    "# Q2. Create a child class car from the vehicle class created in Que 1, which will inherit the vehicle class.\n",
    "# Create a method named seating_capacity which takes capacity as an argument and returns the name of\n",
    "# the vehicle and its seating capacity.\n",
    "\n",
    "# Ans.\n",
    "\n",
    "class Car(Vehicle):\n",
    "    \n",
    "    def seating_capacity(self,capacity):\n",
    "        return f\"Vehicle is {self.name_of_vehicle} and seating capacity is {capacity}\""
   ]
  },
  {
   "cell_type": "code",
   "execution_count": null,
   "id": "5c9842d3",
   "metadata": {},
   "outputs": [],
   "source": [
    "# Q3. What is multiple inheritance? Write a python code to demonstrate multiple inheritance.\n",
    "\n",
    "# Ans.\n",
    "\n",
    "# When one class is inherit from two or more classes , it is called as multiple inheritance\n",
    "# Simplly this class inherits multiple classes\n",
    "\n",
    "class M1:\n",
    "    def m1_fun(self):\n",
    "        print(\"This is m1 class\")\n",
    "        \n",
    "class M2:\n",
    "    def m2_fun(self):\n",
    "        print(\"This is m2 class\")\n",
    "        \n",
    "# This is main claas (M) which is inherit both m1 and m2\n",
    "\n",
    "class M(M1,M2):\n",
    "    def m_fun(self):\n",
    "        print(\"This is main M class\")"
   ]
  },
  {
   "cell_type": "code",
   "execution_count": null,
   "id": "c149c19e",
   "metadata": {},
   "outputs": [],
   "source": [
    "# Q4. What are getter and setter in python? Create a class and create a getter and a setter method in this\n",
    "# class.\n",
    "\n",
    "# Ans.\n",
    "\n",
    "# Which method allows you to access an variable of class is called as getter method\n",
    "# Which method allows you set or modify variable of class is called as setter method\n",
    "\n",
    "class Employee:\n",
    "    \n",
    "    def __init__(self,name,eid,email):\n",
    "        self.emp_name = name\n",
    "        self.emp_id = eid\n",
    "        self.__emp_email = email\n",
    "        \n",
    "    @property\n",
    "    def email(self):\n",
    "        return self.emp_email\n",
    "    \n",
    "    @email.setter\n",
    "    def email_set(self,email):\n",
    "        self.emp_email = email\n",
    "\n",
    "    \n",
    "emp = Employee(\"Nobita\",1234,\"nobi@ta.com\")\n",
    "\n",
    "emp.email_set = \"nobita@gmail.com\"\n",
    "\n",
    "emp.email"
   ]
  },
  {
   "cell_type": "code",
   "execution_count": null,
   "id": "d94e8cec",
   "metadata": {},
   "outputs": [],
   "source": [
    "# Q5.What is method overriding in python? Write a python code to demonstrate method overriding.\n",
    "\n",
    "# Ans.\n",
    "\n",
    "# When we create a method in child class as same name of parent class's method , then method of parent claas is override by child class method.\n",
    "# with super() we can access parent class or super class\n",
    "\n",
    "class A:\n",
    "    def test_func(self):\n",
    "        print(\"This is function of class A\")\n",
    "        \n",
    "class B(A):\n",
    "    def test_func(self):\n",
    "        print(\"This is function of class B\")\n",
    "        \n",
    "obj = B()\n",
    "\n",
    "obj.test_func()"
   ]
  }
 ],
 "metadata": {
  "kernelspec": {
   "display_name": "Python 3 (ipykernel)",
   "language": "python",
   "name": "python3"
  },
  "language_info": {
   "codemirror_mode": {
    "name": "ipython",
    "version": 3
   },
   "file_extension": ".py",
   "mimetype": "text/x-python",
   "name": "python",
   "nbconvert_exporter": "python",
   "pygments_lexer": "ipython3",
   "version": "3.10.0"
  }
 },
 "nbformat": 4,
 "nbformat_minor": 5
}
