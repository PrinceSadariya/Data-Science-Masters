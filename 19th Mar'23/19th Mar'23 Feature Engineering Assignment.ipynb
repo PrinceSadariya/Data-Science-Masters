{
 "cells": [
  {
   "cell_type": "code",
   "execution_count": 4,
   "id": "85e96386",
   "metadata": {},
   "outputs": [
    {
     "data": {
      "text/html": [
       "<div>\n",
       "<style scoped>\n",
       "    .dataframe tbody tr th:only-of-type {\n",
       "        vertical-align: middle;\n",
       "    }\n",
       "\n",
       "    .dataframe tbody tr th {\n",
       "        vertical-align: top;\n",
       "    }\n",
       "\n",
       "    .dataframe thead th {\n",
       "        text-align: right;\n",
       "    }\n",
       "</style>\n",
       "<table border=\"1\" class=\"dataframe\">\n",
       "  <thead>\n",
       "    <tr style=\"text-align: right;\">\n",
       "      <th></th>\n",
       "      <th>f1</th>\n",
       "      <th>f2</th>\n",
       "    </tr>\n",
       "  </thead>\n",
       "  <tbody>\n",
       "    <tr>\n",
       "      <th>0</th>\n",
       "      <td>0.012480</td>\n",
       "      <td>0.352941</td>\n",
       "    </tr>\n",
       "    <tr>\n",
       "      <th>1</th>\n",
       "      <td>0.046802</td>\n",
       "      <td>0.784314</td>\n",
       "    </tr>\n",
       "    <tr>\n",
       "      <th>2</th>\n",
       "      <td>0.000000</td>\n",
       "      <td>1.000000</td>\n",
       "    </tr>\n",
       "    <tr>\n",
       "      <th>3</th>\n",
       "      <td>0.098284</td>\n",
       "      <td>0.568627</td>\n",
       "    </tr>\n",
       "    <tr>\n",
       "      <th>4</th>\n",
       "      <td>0.001560</td>\n",
       "      <td>0.000000</td>\n",
       "    </tr>\n",
       "    <tr>\n",
       "      <th>5</th>\n",
       "      <td>1.000000</td>\n",
       "      <td>0.568627</td>\n",
       "    </tr>\n",
       "    <tr>\n",
       "      <th>6</th>\n",
       "      <td>0.065523</td>\n",
       "      <td>0.000000</td>\n",
       "    </tr>\n",
       "    <tr>\n",
       "      <th>7</th>\n",
       "      <td>0.098284</td>\n",
       "      <td>1.000000</td>\n",
       "    </tr>\n",
       "    <tr>\n",
       "      <th>8</th>\n",
       "      <td>0.099844</td>\n",
       "      <td>0.568627</td>\n",
       "    </tr>\n",
       "  </tbody>\n",
       "</table>\n",
       "</div>"
      ],
      "text/plain": [
       "         f1        f2\n",
       "0  0.012480  0.352941\n",
       "1  0.046802  0.784314\n",
       "2  0.000000  1.000000\n",
       "3  0.098284  0.568627\n",
       "4  0.001560  0.000000\n",
       "5  1.000000  0.568627\n",
       "6  0.065523  0.000000\n",
       "7  0.098284  1.000000\n",
       "8  0.099844  0.568627"
      ]
     },
     "execution_count": 4,
     "metadata": {},
     "output_type": "execute_result"
    }
   ],
   "source": [
    "# Q1. What is Min-Max scaling, and how is it used in data preprocessing? Provide an example to illustrate its\n",
    "# application.\n",
    "\n",
    "# Ans.\n",
    "\n",
    "# Min-Max Scaling is a process of feature scaling,\n",
    "# In thhis technique all data transorm between 0 to 1\n",
    "\n",
    "# Example\n",
    "d1 = {\n",
    "    'f1':[12,34,4,67,5,645,46,67,68],\n",
    "    'f2':[23,45,56,34,5,34,5,56,34]\n",
    "}\n",
    "\n",
    "import pandas as pd\n",
    "import numpy as np\n",
    "\n",
    "df1 = pd.DataFrame(d1)\n",
    "\n",
    "f1_max = df1['f1'].max()\n",
    "f1_min = df1['f1'].min()\n",
    "\n",
    "from sklearn.preprocessing import MinMaxScaler\n",
    "\n",
    "min_max = MinMaxScaler()\n",
    "\n",
    "pd.DataFrame(min_max.fit_transform(df1),columns=['f1','f2'])"
   ]
  },
  {
   "cell_type": "code",
   "execution_count": null,
   "id": "9e261862",
   "metadata": {},
   "outputs": [],
   "source": [
    "# Q2. What is the Unit Vector technique in feature scaling, and how does it differ from Min-Max scaling?\n",
    "# Provide an example to illustrate its application.\n",
    "\n",
    "# Ans.\n",
    "\n",
    "# The unit vector technique is a feature scaling method that transforms the feature vectors into unit vectors\n",
    "\n",
    "# After applying the unit vector technique, each feature vector is transformed into a unit vector with a length of 1"
   ]
  },
  {
   "cell_type": "code",
   "execution_count": null,
   "id": "df055687",
   "metadata": {},
   "outputs": [],
   "source": [
    "# Q3. What is PCA (Principle Component Analysis), and how is it used in dimensionality reduction? Provide an\n",
    "# example to illustrate its application.\n",
    "\n",
    "# Ans.\n",
    "\n",
    "# Principal Component Analysis (PCA) is a dimensionality reduction technique used to transform a high-dimensional dataset into a lower-dimensional space while retaining the most important information in the data.\n"
   ]
  },
  {
   "cell_type": "code",
   "execution_count": null,
   "id": "6f717ece",
   "metadata": {},
   "outputs": [],
   "source": [
    "# Q4. What is the relationship between PCA and Feature Extraction, and how can PCA be used for Feature\n",
    "# Extraction? Provide an example to illustrate this concept.\n",
    "\n",
    "# Ans.\n",
    "\n",
    "# PCA achieves feature extraction by identifying the principal components, which are linear combinations of the original features.\n",
    "# These principal components capture the maximum variance in the data and are uncorrelated with each other. Each principal component represents a new feature that is a weighted combination of the original features.\n"
   ]
  },
  {
   "cell_type": "code",
   "execution_count": null,
   "id": "baa44729",
   "metadata": {},
   "outputs": [],
   "source": [
    "# Q5. You are working on a project to build a recommendation system for a food delivery service. The dataset\n",
    "# contains features such as price, rating, and delivery time. Explain how you would use Min-Max scaling to\n",
    "# preprocess the data.\n",
    "\n",
    "# Ans.\n",
    "\n",
    "# Here we have three features price, rating and delivery time\n",
    "# we can transform all data in range of 0 to 1\n",
    "# so its easier to calculation and etc."
   ]
  },
  {
   "cell_type": "code",
   "execution_count": null,
   "id": "f0aa78fa",
   "metadata": {},
   "outputs": [],
   "source": [
    "# Q6. You are working on a project to build a model to predict stock prices. The dataset contains many\n",
    "# features, such as company financial data and market trends. Explain how you would use PCA to reduce the\n",
    "# dimensionality of the dataset.\n",
    "\n",
    "# Ans.\n",
    "\n",
    "# By applying PCA effectively reduce the dimensionality of the original dataset by capturing the most significant patterns and variations in the data. \n",
    "# The reduced set of principal components provides a more compact representation of the features"
   ]
  },
  {
   "cell_type": "code",
   "execution_count": 5,
   "id": "90920ac2",
   "metadata": {},
   "outputs": [
    {
     "name": "stdout",
     "output_type": "stream",
     "text": [
      "[-1.0, -0.5789473684210527, -0.052631578947368474, 0.4736842105263157, 1.0]\n"
     ]
    }
   ],
   "source": [
    "# Q7. For a dataset containing the following values: [1, 5, 10, 15, 20], perform Min-Max scaling to transform the\n",
    "# values to a range of -1 to 1.\n",
    "\n",
    "# Ans.\n",
    "\n",
    "import numpy as np\n",
    "\n",
    "def min_max_scaling(dataset, min_range, max_range):\n",
    "    min_value = min(dataset)\n",
    "    max_value = max(dataset)\n",
    "    scaled_dataset = [(x - min_value) / (max_value - min_value) * (max_range - min_range) + min_range for x in dataset]\n",
    "    return scaled_dataset\n",
    "\n",
    "dataset = [1, 5, 10, 15, 20]\n",
    "min_range = -1\n",
    "max_range = 1\n",
    "\n",
    "scaled_dataset = min_max_scaling(dataset, min_range, max_range)\n",
    "print(scaled_dataset)"
   ]
  },
  {
   "cell_type": "code",
   "execution_count": null,
   "id": "2b1620e2",
   "metadata": {},
   "outputs": [],
   "source": [
    "# Q8. For a dataset containing the following features: [height, weight, age, gender, blood pressure], perform\n",
    "# Feature Extraction using PCA. How many principal components would you choose to retain, and why?\n",
    "\n",
    "# Ans.\n",
    "\n",
    "# first we perform standardization on nnumeric features like age , hwight , weight , bp\n",
    "# after that we can tranfer into one PC"
   ]
  }
 ],
 "metadata": {
  "kernelspec": {
   "display_name": "Python 3 (ipykernel)",
   "language": "python",
   "name": "python3"
  },
  "language_info": {
   "codemirror_mode": {
    "name": "ipython",
    "version": 3
   },
   "file_extension": ".py",
   "mimetype": "text/x-python",
   "name": "python",
   "nbconvert_exporter": "python",
   "pygments_lexer": "ipython3",
   "version": "3.10.0"
  }
 },
 "nbformat": 4,
 "nbformat_minor": 5
}
