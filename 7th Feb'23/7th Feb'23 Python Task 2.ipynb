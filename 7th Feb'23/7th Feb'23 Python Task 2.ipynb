{
 "cells": [
  {
   "cell_type": "code",
   "execution_count": null,
   "id": "384bba54",
   "metadata": {},
   "outputs": [],
   "source": [
    "# Q1. You are writing code for a company. The requirement of the company is that you create a python\n",
    "# function that will check whether the password entered by the user is correct or not. The function should\n",
    "# take the password as input and return the string “Valid Password” if the entered password follows the\n",
    "# below-given password guidelines else it should return “Invalid Password”.\n",
    "\n",
    "# Note: 1. The Password should contain at least two uppercase letters and at least two lowercase letters.\n",
    "# 2. The Password should contain at least a number and three special characters.\n",
    "# 3. The length of the password should be 10 characters long.\n",
    "\n",
    "# Ans.\n",
    "\n",
    "def isValidPas(pas):\n",
    "\n",
    "    up_l = 0\n",
    "    lo_l = 0\n",
    "    num = 0\n",
    "    spe = 0\n",
    "\n",
    "    if len(pas) >= 10:\n",
    "        for i in pas:\n",
    "            if i.isupper():\n",
    "                up_l += 1\n",
    "\n",
    "            elif i.islower():\n",
    "                lo_l += 1\n",
    "\n",
    "            elif i.isnumeric():\n",
    "                num += 1\n",
    "\n",
    "            else:\n",
    "                spe += 1\n",
    "\n",
    "        if up_l>1 and lo_l>1 and num>0 and spe>2:\n",
    "            return True\n",
    "        else:\n",
    "            return False\n",
    "\n",
    "    else:\n",
    "        return False\n",
    "    \n",
    "\n",
    "pas = str(input(\"Enter Your Password :\"))\n",
    "\n",
    "if(isValidPas(pas)):\n",
    "    print(\"Valid Password\")\n",
    "else:\n",
    "    print(\"Invalid Password\")"
   ]
  },
  {
   "cell_type": "code",
   "execution_count": null,
   "id": "c1012562",
   "metadata": {},
   "outputs": [],
   "source": [
    "# Q2. Solve the below-given questions using at least one of the following:\n",
    "# 1. Lambda functioJ\n",
    "# 2. Filter functioJ\n",
    "# 3. Zap functioJ\n",
    "# 4. List ComprehensioI\n",
    "\n",
    "# Ans."
   ]
  },
  {
   "cell_type": "code",
   "execution_count": null,
   "id": "669e2633",
   "metadata": {},
   "outputs": [],
   "source": [
    "# Check if the string starts with a particular letter\n",
    "\n",
    "# Here we are checking for the string starts with \"a\" or not\n",
    "\n",
    "check_str = lambda s : True if s[0] == 'a' else False\n",
    "\n",
    "s = str(input(\"Enter String : \"))\n",
    "\n",
    "if(check_str(s)):\n",
    "    print(\"Yes given string starts with 'a'\")\n",
    "else:\n",
    "    print(\"No given string not starts with 'a'\")"
   ]
  },
  {
   "cell_type": "code",
   "execution_count": null,
   "id": "5b610fe6",
   "metadata": {},
   "outputs": [],
   "source": [
    "# Check if the string is numeric\n",
    "\n",
    "is_numeric_str = lambda s : True if s.isnumeric() else False\n",
    "\n",
    "s = str(input(\"Enter String : \"))\n",
    "\n",
    "if(is_numeric_str(s)):\n",
    "    print(\"Yes given string is numeric\")\n",
    "else:\n",
    "    print(\"No given string is not numeric\")"
   ]
  },
  {
   "cell_type": "code",
   "execution_count": null,
   "id": "863b0520",
   "metadata": {},
   "outputs": [],
   "source": [
    "# Sort a list of tuples having fruit names and their quantity. [(\"mango\",99),(\"orange\",80), (\"grapes\", 1000)]\n",
    "\n",
    "l = [(\"mango\",99),(\"orange\",80), (\"grapes\", 1000)]\n",
    "l.sort(key = lambda x:x[1])\n",
    "print(l)"
   ]
  },
  {
   "cell_type": "code",
   "execution_count": null,
   "id": "d0770cb3",
   "metadata": {},
   "outputs": [],
   "source": [
    "# Find the squares of numbers from 1 to 10\n",
    "\n",
    "l = list(range(1,11))\n",
    "\n",
    "l1 = [i**2 for i in l]\n",
    "\n",
    "print(l1)"
   ]
  },
  {
   "cell_type": "code",
   "execution_count": null,
   "id": "09c71ce7",
   "metadata": {},
   "outputs": [],
   "source": [
    "# Find the cube root of numbers from 1 to 10\n",
    "\n",
    "l = list(range(1,11))\n",
    "\n",
    "l1 = [pow(i,1/3) for i in l]\n",
    "\n",
    "print(l1)"
   ]
  },
  {
   "cell_type": "code",
   "execution_count": null,
   "id": "79a6e02f",
   "metadata": {},
   "outputs": [],
   "source": [
    "# Check if a given number is even\n",
    "\n",
    "isEven = lambda x : True if x%2==0 else False\n",
    "\n",
    "n = int(input(\"Enter number : \"))\n",
    "\n",
    "if isEven(n):\n",
    "    print(\"Yes given number is even\")\n",
    "else:\n",
    "    print(\"No given number is not even\")"
   ]
  },
  {
   "cell_type": "code",
   "execution_count": null,
   "id": "f14688ff",
   "metadata": {},
   "outputs": [],
   "source": [
    "# Filter odd numbers from the given list.\n",
    "# [1,2,3,4,5,6,7,8,9,10]\n",
    "\n",
    "l = [1,2,3,4,5,6,7,8,9,10]\n",
    "\n",
    "l1 = list(filter(lambda x:x%2!=0 , l))\n",
    "\n",
    "print(l1)"
   ]
  },
  {
   "cell_type": "code",
   "execution_count": null,
   "id": "7645a669",
   "metadata": {},
   "outputs": [],
   "source": [
    "# Sort a list of integers into positive and negative integers lists.\n",
    "# [1,2,3,4,5,6,-1,-2,-3,-4,-5,0]\n",
    "\n",
    "l = [1,2,3,4,5,6,-1,-2,-3,-4,-5,0]\n",
    "\n",
    "# Here we are avoiding zero because zero is neither a positive nor a negative number\n",
    "\n",
    "pos = [i for i in l if i > 0]\n",
    "print(\"Positive number's list : \",pos)\n",
    "\n",
    "neg = [i for i in l if i < 0]\n",
    "print(\"Negative number's list : \",neg)"
   ]
  }
 ],
 "metadata": {
  "kernelspec": {
   "display_name": "Python 3 (ipykernel)",
   "language": "python",
   "name": "python3"
  },
  "language_info": {
   "codemirror_mode": {
    "name": "ipython",
    "version": 3
   },
   "file_extension": ".py",
   "mimetype": "text/x-python",
   "name": "python",
   "nbconvert_exporter": "python",
   "pygments_lexer": "ipython3",
   "version": "3.10.0"
  }
 },
 "nbformat": 4,
 "nbformat_minor": 5
}
