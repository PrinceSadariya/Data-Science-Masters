{
 "cells": [
  {
   "cell_type": "code",
   "execution_count": null,
   "id": "2efdd6e5",
   "metadata": {},
   "outputs": [],
   "source": [
    "# Q.1 Explain the following with an exaple:\n",
    "    \n",
    "#     1. Artificial Intelligence\n",
    "#     2. Machine Learning\n",
    "#     3. Deep Learning\n",
    "\n",
    "# Ans.\n",
    "\n",
    "# 1. AI\n",
    "# AI is an smart applicaton which perform action without any human intervation\n",
    "# Ex. Alexa\n",
    "\n",
    "# 2. ML\n",
    "# ML is a subset of AI , it used to building model\n",
    "# Ex. Recommender System\n",
    "\n",
    "# 3. DL\n",
    "# DL is a subset of ML\n",
    "# It is used for mimic human brain\n",
    "# Ex. Image Recognition"
   ]
  },
  {
   "cell_type": "code",
   "execution_count": null,
   "id": "21f84d3e",
   "metadata": {},
   "outputs": [],
   "source": [
    "# Q.2 What is supervised learning? List some examples of supervised learning.\n",
    "\n",
    "# Ans.\n",
    "\n",
    "# Supervised learning is a type of ML.\n",
    "# Supervised learning is a machine learning approach where an algorithm learns from labeled training data to make predictions or decisions\n",
    "\n",
    "# Price Predictor"
   ]
  },
  {
   "cell_type": "code",
   "execution_count": null,
   "id": "c1edf2fc",
   "metadata": {},
   "outputs": [],
   "source": [
    "# Q.3 What is unsupervised learning? List some examples of unsupervised learning.\n",
    "\n",
    "# Ans.\n",
    "\n",
    "# Unsupervised learning is a machine learning approach where an algorithm learns from unlabeled data without explicit feedback or target values. \n",
    "\n",
    "# Customer Segmantation"
   ]
  },
  {
   "cell_type": "code",
   "execution_count": null,
   "id": "b24507c3",
   "metadata": {},
   "outputs": [],
   "source": [
    "# Q.4 What is the difference b/w AI,ML,DL and DS?\n",
    "\n",
    "# Ans.\n",
    "\n",
    "# AI is a broad field aiming to create intelligent machines, \n",
    "# ML is a subset of AI focusing on algorithms that learn from data, \n",
    "# DL is a subset of ML using deep neural networks for complex learning tasks, \n",
    "# DS is an interdisciplinary field focusing on extracting insights and value from data through various techniques and methodologies."
   ]
  },
  {
   "cell_type": "code",
   "execution_count": null,
   "id": "91bec3fe",
   "metadata": {},
   "outputs": [],
   "source": [
    "# Q.5 What is the main difference b/w supervised,unsupervised and semi-supervised learning?\n",
    "\n",
    "# Ans.\n",
    "\n",
    "# The main difference between supervised, unsupervised, and semi-supervised learning lies in the presence and usage of labeled data"
   ]
  },
  {
   "cell_type": "code",
   "execution_count": null,
   "id": "f90b87a2",
   "metadata": {},
   "outputs": [],
   "source": [
    "# Q.6 What is train,test and validation split? Explain the importance of each term.\n",
    "\n",
    "# Ans.\n",
    "\n",
    "# Training Set: The training set is the portion of the dataset used to train or fit a machine learning model.\n",
    "\n",
    "# Validation Set: The validation set is an optional subset used during the model development process for tuning hyperparameters and selecting the best model\n",
    "\n",
    "# Test Set: The test set is used to evaluate the performance and assess the generalization ability of a trained model\n"
   ]
  },
  {
   "cell_type": "code",
   "execution_count": null,
   "id": "7fb82d26",
   "metadata": {},
   "outputs": [],
   "source": [
    "# Q.7 How can unsupervised learning be used in anomaly detection?\n",
    "\n",
    "# Ans.\n",
    "\n",
    "# Unsupervised learning can be used in anomaly detection by leveraging techniques like clustering, density estimation, and reconstruction-based approaches to identify instances that deviate from the norm\n"
   ]
  },
  {
   "cell_type": "code",
   "execution_count": null,
   "id": "ce5da696",
   "metadata": {},
   "outputs": [],
   "source": [
    "# Q.8 List out some commonly used supervised learning algorithms and unsupervised learning algorithms.\n",
    "\n",
    "# Ans.\n",
    "\n",
    "# Supervised Learning Algorithms:\n",
    "\n",
    "# Linear Regression\n",
    "# Logistic Regression\n",
    "# Decision Trees\n",
    "# Random Forests\n",
    "# Support Vector Machines (SVM)\n",
    "\n",
    "# Unsupervised Learning Algorithms:\n",
    "\n",
    "# K-Means Clustering\n",
    "# Hierarchical Clustering\n",
    "# DBSCAN (Density-Based Spatial Clustering of Applications with Noise)\n",
    "# Gaussian Mixture Models (GMM)\n",
    "# Principal Component Analysis (PCA)"
   ]
  }
 ],
 "metadata": {
  "kernelspec": {
   "display_name": "Python 3 (ipykernel)",
   "language": "python",
   "name": "python3"
  },
  "language_info": {
   "codemirror_mode": {
    "name": "ipython",
    "version": 3
   },
   "file_extension": ".py",
   "mimetype": "text/x-python",
   "name": "python",
   "nbconvert_exporter": "python",
   "pygments_lexer": "ipython3",
   "version": "3.10.0"
  }
 },
 "nbformat": 4,
 "nbformat_minor": 5
}
