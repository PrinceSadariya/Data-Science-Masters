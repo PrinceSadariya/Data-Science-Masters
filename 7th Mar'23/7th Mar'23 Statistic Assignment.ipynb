{
 "cells": [
  {
   "cell_type": "code",
   "execution_count": null,
   "id": "76ee0898",
   "metadata": {},
   "outputs": [],
   "source": [
    "# Q1. What are the three measures of central tendency?\n",
    "\n",
    "# Ans.\n",
    "\n",
    "# 1. Mean\n",
    "# 2. Median\n",
    "# 3. Mode"
   ]
  },
  {
   "cell_type": "code",
   "execution_count": null,
   "id": "bd279fd9",
   "metadata": {},
   "outputs": [],
   "source": [
    "# Q2. What is the difference between the mean, median, and mode? How are they used to measure the\n",
    "# central tendency of a dataset?\n",
    "\n",
    "# Ans.\n",
    "\n",
    "# in simple words mean is the average of the set\n",
    "# median is the middle value of the set\n",
    "# mode is the value that occur more frequently in set"
   ]
  },
  {
   "cell_type": "code",
   "execution_count": 6,
   "id": "7af3433e",
   "metadata": {},
   "outputs": [
    {
     "name": "stdout",
     "output_type": "stream",
     "text": [
      "Mean : 177.01875\n",
      "Median : 177.0\n",
      "Mode : ModeResult(mode=array([177.]), count=array([3]))\n"
     ]
    },
    {
     "name": "stderr",
     "output_type": "stream",
     "text": [
      "C:\\Users\\sadar\\AppData\\Local\\Temp\\ipykernel_14372\\1831062635.py:15: FutureWarning: Unlike other reduction functions (e.g. `skew`, `kurtosis`), the default behavior of `mode` typically preserves the axis it acts along. In SciPy 1.11.0, this behavior will change: the default value of `keepdims` will become False, the `axis` over which the statistic is taken will be eliminated, and the value None will no longer be accepted. Set `keepdims` to True or False to avoid this warning.\n",
      "  h_mode = stats.mode(heights)\n"
     ]
    }
   ],
   "source": [
    "# Q3. Measure the three measures of central tendency for the given height data:\n",
    "# [178,177,176,177,178.2,178,175,179,180,175,178.9,176.2,177,172.5,178,176.5]\n",
    "\n",
    "# Ans.\n",
    "\n",
    "import numpy as np\n",
    "\n",
    "heights = [178,177,176,177,178.2,178,175,179,180,175,178.9,176.2,177,172.5,178,176.5]\n",
    "\n",
    "h_mean = np.mean(heights)\n",
    "h_median = np.median(heights)\n",
    "\n",
    "from scipy import stats\n",
    "\n",
    "h_mode = stats.mode(heights)\n",
    "\n",
    "print(\"Mean :\",h_mean)\n",
    "print(\"Median :\",h_median)\n",
    "print(\"Mode :\",h_mode)"
   ]
  },
  {
   "cell_type": "code",
   "execution_count": 7,
   "id": "ecb7db34",
   "metadata": {},
   "outputs": [
    {
     "name": "stdout",
     "output_type": "stream",
     "text": [
      "std :  1.7885814036548633\n"
     ]
    }
   ],
   "source": [
    "# Q4. Find the standard deviation for the given data:\n",
    "# [178,177,176,177,178.2,178,175,179,180,175,178.9,176.2,177,172.5,178,176.5]\n",
    "\n",
    "# Ans.\n",
    "\n",
    "data = [178,177,176,177,178.2,178,175,179,180,175,178.9,176.2,177,172.5,178,176.5]\n",
    "\n",
    "data_std = np.std(data)\n",
    "print(\"std : \",data_std)"
   ]
  },
  {
   "cell_type": "code",
   "execution_count": null,
   "id": "918409aa",
   "metadata": {},
   "outputs": [],
   "source": [
    "# Q5. How are measures of dispersion such as range, variance, and standard deviation used to describe\n",
    "# the spread of a dataset? Provide an example.\n",
    "\n",
    "# Ans.\n",
    "\n",
    "# Measures of dispersion, such as range, variance, and standard deviation, are used to quantify the spread or variability of a dataset. \n",
    "# They provide information about how spread out the values are from the central tendency measures like the mean or median."
   ]
  },
  {
   "cell_type": "code",
   "execution_count": null,
   "id": "b2f56468",
   "metadata": {},
   "outputs": [],
   "source": [
    "# Q6. What is a Venn diagram?\n",
    "\n",
    "# Ans.\n",
    "\n",
    "# A Venn diagram is a graphical representation of sets or groups using overlapping circles."
   ]
  },
  {
   "cell_type": "code",
   "execution_count": null,
   "id": "37cd64e6",
   "metadata": {},
   "outputs": [],
   "source": [
    "# Q7. For the two given sets A = (2,3,4,5,6,7) & B = (0,2,6,8,10). Find:\n",
    "# (i) A intersection B\n",
    "# (ii) A ⋃ B\n",
    "\n",
    "# Ans.\n",
    "\n",
    "# (i) A intersection B\n",
    "#     (2,6)\n",
    "\n",
    "# (ii) A ⋃ B\n",
    "#     (0,2,3,4,5,6,7,8,10)"
   ]
  },
  {
   "cell_type": "code",
   "execution_count": null,
   "id": "7513d10a",
   "metadata": {},
   "outputs": [],
   "source": [
    "# Q8. What do you understand about skewness in data?\n",
    "\n",
    "# Ans.\n",
    "\n",
    "# skewness is represent how data is distributed on both side (right and left)"
   ]
  },
  {
   "cell_type": "code",
   "execution_count": null,
   "id": "c21b85d3",
   "metadata": {},
   "outputs": [],
   "source": [
    "# Q9. If a data is right skewed then what will be the position of median with respect to mean?\n",
    "\n",
    "# Ans.\n",
    "\n",
    "# if data is right skewed then median will less than mean"
   ]
  },
  {
   "cell_type": "code",
   "execution_count": null,
   "id": "e7fa4d52",
   "metadata": {},
   "outputs": [],
   "source": [
    "# Q10. Explain the difference between covariance and correlation. How are these measures used in\n",
    "# statistical analysis?\n",
    "\n",
    "# Ans.\n",
    "\n",
    "# Covariance and correlation are both statistical measures that describe the relationship between two variables\n",
    "# but they differ in their interpretation and scale.\n"
   ]
  },
  {
   "cell_type": "code",
   "execution_count": null,
   "id": "bd4d5413",
   "metadata": {},
   "outputs": [],
   "source": [
    "# Q11. What is the formula for calculating the sample mean? Provide an example calculation for a\n",
    "# dataset.\n",
    "\n",
    "# Ans.\n",
    "\n",
    "# sample_mean(x_bar) = summation i=1 to n (xi) / n\n",
    "\n",
    "# data = [1,2,3,4,5]\n",
    "# so n = 5\n",
    "\n",
    "# smaple_mean = (1+2+3+4+5)/5 = 3"
   ]
  },
  {
   "cell_type": "code",
   "execution_count": null,
   "id": "b080bcb5",
   "metadata": {},
   "outputs": [],
   "source": [
    "# Q12. For a normal distribution data what is the relationship between its measure of central tendency?\n",
    "\n",
    "# Ans.\n",
    "\n",
    "# they are all equal to each other"
   ]
  },
  {
   "cell_type": "code",
   "execution_count": null,
   "id": "f0f404f0",
   "metadata": {},
   "outputs": [],
   "source": [
    "# Q13. How is covariance different from correlation?\n",
    "\n",
    "# Ans.\n",
    "\n",
    "# Covariance and correlation are both measures that describe the relationship between two variables, \n",
    "# but they differ in their interpretation and scale"
   ]
  },
  {
   "cell_type": "code",
   "execution_count": null,
   "id": "f6f447e0",
   "metadata": {},
   "outputs": [],
   "source": [
    "# Q14. How do outliers affect measures of central tendency and dispersion? Provide an example.\n",
    "\n",
    "# Ans.\n",
    "\n",
    "# the outlier has a notable impact on the mean, range, variance, and standard deviation, while the median and mode remain relatively unaffected."
   ]
  }
 ],
 "metadata": {
  "kernelspec": {
   "display_name": "Python 3 (ipykernel)",
   "language": "python",
   "name": "python3"
  },
  "language_info": {
   "codemirror_mode": {
    "name": "ipython",
    "version": 3
   },
   "file_extension": ".py",
   "mimetype": "text/x-python",
   "name": "python",
   "nbconvert_exporter": "python",
   "pygments_lexer": "ipython3",
   "version": "3.10.0"
  }
 },
 "nbformat": 4,
 "nbformat_minor": 5
}
