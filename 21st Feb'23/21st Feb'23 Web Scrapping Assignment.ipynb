{
 "cells": [
  {
   "cell_type": "code",
   "execution_count": null,
   "id": "8918e6e9",
   "metadata": {},
   "outputs": [],
   "source": [
    "# Q1. What is Web Scraping? Why is it Used? Give three areas where Web Scraping is used to get data.\n",
    "\n",
    "# Ans.\n",
    "\n",
    "# Web scrapping is a method to collect data from web\n",
    "\n",
    "# Web scrapping is used to collect data from different websites , because after collecting of data we can use those data into projects or work etc.\n",
    "\n",
    "# Price monitoring\n",
    "# News tracking\n",
    "# Product review analysis"
   ]
  },
  {
   "cell_type": "code",
   "execution_count": null,
   "id": "223f88fb",
   "metadata": {},
   "outputs": [],
   "source": [
    "# Q2. What are the different methods used for Web Scraping?\n",
    "\n",
    "# Ans.\n",
    "\n",
    "# There are different methods used for web scrapping , some os those mention bellow\n",
    "\n",
    "# Manual copy-paste\n",
    "# Text pattern matching\n",
    "# HTML Paesing\n",
    "# DOM Parsing"
   ]
  },
  {
   "cell_type": "code",
   "execution_count": null,
   "id": "984227b0",
   "metadata": {},
   "outputs": [],
   "source": [
    "# Q3. What is Beautiful Soup? Why is it used?\n",
    "\n",
    "# Ans.\n",
    "\n",
    "# BeautifulSoup is a library of python\n",
    "# It makes easy to scrape data from webpages"
   ]
  },
  {
   "cell_type": "code",
   "execution_count": null,
   "id": "56d84a1d",
   "metadata": {},
   "outputs": [],
   "source": [
    "# Q4. Why is flask used in this Web Scraping project?\n",
    "\n",
    "# Ans.\n",
    "\n",
    "# Because flask is lightweight framework to buid wensite"
   ]
  },
  {
   "cell_type": "code",
   "execution_count": null,
   "id": "611bc4f2",
   "metadata": {},
   "outputs": [],
   "source": [
    "# Q5. Write the names of AWS services used in this project. Also, explain the use of each service.\n",
    "\n",
    "# Ans.\n",
    "\n",
    "# Here we used to services\n",
    "\n",
    "# Data Pipeline\n",
    "# Data Pipeline is a web service that helps you reliably process and move data between different AWS compute and storage services\n",
    "\n",
    "# Elastic Beanstalk\n",
    "#  Elastic Beanstalk helps you deploy and manage web applications with capacity provisioning, app health monitoring"
   ]
  }
 ],
 "metadata": {
  "kernelspec": {
   "display_name": "Python 3 (ipykernel)",
   "language": "python",
   "name": "python3"
  },
  "language_info": {
   "codemirror_mode": {
    "name": "ipython",
    "version": 3
   },
   "file_extension": ".py",
   "mimetype": "text/x-python",
   "name": "python",
   "nbconvert_exporter": "python",
   "pygments_lexer": "ipython3",
   "version": "3.10.0"
  }
 },
 "nbformat": 4,
 "nbformat_minor": 5
}
