{
 "cells": [
  {
   "cell_type": "code",
   "execution_count": null,
   "id": "d88814db-3a06-4fe1-8eef-5d886242d9da",
   "metadata": {},
   "outputs": [],
   "source": [
    "# Q.1 Who developed python programming language?\n",
    "\n",
    "# Ans.\n",
    "\n",
    "python was developed by Guido van Rossum"
   ]
  },
  {
   "cell_type": "code",
   "execution_count": null,
   "id": "7f06dab6-a7eb-4f7a-a6b0-0e562888117d",
   "metadata": {},
   "outputs": [],
   "source": [
    "# Q.2 Which type of programming does python support?\n",
    "\n",
    "# Ans.\n",
    "\n",
    "python is an interpreted programming language \n",
    "and it support oops, structured and functional programming"
   ]
  },
  {
   "cell_type": "code",
   "execution_count": null,
   "id": "dd868e93-8b8d-46c5-a4ed-4ae995271d36",
   "metadata": {},
   "outputs": [],
   "source": [
    "# Q.3 Is python case sensitive when dealing with identifiers?\n",
    "\n",
    "# Ans.\n",
    "\n",
    "It is true python is a case sensitive "
   ]
  },
  {
   "cell_type": "code",
   "execution_count": null,
   "id": "dc860332-17d0-4962-947d-93939dcc468e",
   "metadata": {},
   "outputs": [],
   "source": [
    "# Q.4 What is the correct extension of the python file?\n",
    "\n",
    "# Ans.\n",
    "\n",
    "\".py\" is correct extension for python files"
   ]
  },
  {
   "cell_type": "code",
   "execution_count": null,
   "id": "2fe8b99b-16ea-4238-8c3c-eaa247350f4d",
   "metadata": {},
   "outputs": [],
   "source": [
    "# Q.5 Is python code compiled or interpreted?\n",
    "\n",
    "# Ans.\n",
    "\n",
    "python code is interpreted"
   ]
  },
  {
   "cell_type": "code",
   "execution_count": null,
   "id": "12ec753c-652b-47ba-a86c-1b458911707a",
   "metadata": {},
   "outputs": [],
   "source": [
    "# Q.6 Name a few blocks of code used to define in python language?\n",
    "\n",
    "# Ans.\n",
    "\n",
    "module , function and class"
   ]
  },
  {
   "cell_type": "code",
   "execution_count": null,
   "id": "a5b05e2c-eaf8-4f46-9ddf-0adfce1aa8d3",
   "metadata": {},
   "outputs": [],
   "source": [
    "# Q.7 State a character used to give single-line comments in python?\n",
    "\n",
    "# Ans.\n",
    "\n",
    "\"#\""
   ]
  },
  {
   "cell_type": "code",
   "execution_count": null,
   "id": "c6418855-9dea-48d6-836f-32db1e2c4544",
   "metadata": {},
   "outputs": [],
   "source": [
    "# Q.8 Mention functions which can help us to find the version of python that was are currently working on?\n",
    "\n",
    "# Ans.\n",
    "\n",
    "to check which python version is running , we can use sys "
   ]
  },
  {
   "cell_type": "code",
   "execution_count": null,
   "id": "cc257dec-3559-41f5-863c-757de6a603fc",
   "metadata": {},
   "outputs": [],
   "source": [
    "# Q.9 Python supports the creation of anonymous funcrions at runtime, using a construct called _______?\n",
    "\n",
    "# Ans.\n",
    "\n",
    "lambda"
   ]
  },
  {
   "cell_type": "code",
   "execution_count": null,
   "id": "2ce36c90-99d1-48a7-abe0-ce25c1b136ac",
   "metadata": {},
   "outputs": [],
   "source": [
    "# Q.10 What does pip stand for python?\n",
    "\n",
    "# Ans.\n",
    "\n",
    "fullform of pip is \"pip install packages\"\n",
    "pip is a standard tool for installing python pacakages and their dependencies"
   ]
  },
  {
   "cell_type": "code",
   "execution_count": null,
   "id": "fb2ed219-f704-456d-a7a7-bf4537281201",
   "metadata": {},
   "outputs": [],
   "source": [
    "# Q.11 Mention a few built-in functions in python?\n",
    "\n",
    "# Ans.\n",
    "\n",
    "len()\n",
    "input()\n",
    "sum()\n",
    "min()\n",
    "max()\n",
    "print()\n",
    "type()"
   ]
  },
  {
   "cell_type": "code",
   "execution_count": null,
   "id": "000c882b-0bd3-4673-be28-769652932e35",
   "metadata": {},
   "outputs": [],
   "source": [
    "# Q.12 What is the maximum possible length of an identifier in python?\n",
    "\n",
    "# Ans.\n",
    "\n",
    "79 characters"
   ]
  },
  {
   "cell_type": "code",
   "execution_count": null,
   "id": "e20588cf-4599-4821-9a3a-d569d78590cd",
   "metadata": {},
   "outputs": [],
   "source": [
    "# Q.13 What are the benefits of using python?\n",
    "\n",
    "# Ans.\n",
    "\n",
    "Main advantage of python is easy to learn\n",
    "We can use it in most of all area\n",
    "like Data science , Web development , App development"
   ]
  },
  {
   "cell_type": "code",
   "execution_count": null,
   "id": "83537e0c-a59c-4e80-83d1-8cb24095e50b",
   "metadata": {},
   "outputs": [],
   "source": [
    "# Q.14 How is memory managed in python?\n",
    "\n",
    "# Ans.\n",
    "\n",
    "Python uses a portion of the memory for internal use and non-object memory. Another part of the memory is used for Python object such as int, dict, list, etc. CPython contains the object allocator that allocates memory within the object area. The object allocator gets a call every time the new object needs space."
   ]
  },
  {
   "cell_type": "code",
   "execution_count": null,
   "id": "15a0032d-ef79-447c-84d1-8e13210181eb",
   "metadata": {},
   "outputs": [],
   "source": [
    "# Q.15 How to install python on windows and set path variables?\n",
    "\n",
    "# Ans.\n",
    "\n",
    "\n",
    "In the section entitled User Variables, double-click on the entry that says Path. Another window will pop up showing a list of paths. Click the New button and paste the path to your Python executable there. Once that's inserted, select your newly added path and click the Move Up button until it's at the top."
   ]
  },
  {
   "cell_type": "code",
   "execution_count": null,
   "id": "f82e2aa3-5003-43a0-a155-6476e7eed8cf",
   "metadata": {},
   "outputs": [],
   "source": [
    "# Q.16 Is indentation required in python?\n",
    "\n",
    "# Ans.\n",
    "\n",
    "Yes , identation required in python"
   ]
  }
 ],
 "metadata": {
  "kernelspec": {
   "display_name": "Python 3 (ipykernel)",
   "language": "python",
   "name": "python3"
  },
  "language_info": {
   "codemirror_mode": {
    "name": "ipython",
    "version": 3
   },
   "file_extension": ".py",
   "mimetype": "text/x-python",
   "name": "python",
   "nbconvert_exporter": "python",
   "pygments_lexer": "ipython3",
   "version": "3.10.8"
  }
 },
 "nbformat": 4,
 "nbformat_minor": 5
}
