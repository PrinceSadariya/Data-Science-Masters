{
 "cells": [
  {
   "cell_type": "code",
   "execution_count": 10,
   "id": "f2cec56b",
   "metadata": {},
   "outputs": [
    {
     "data": {
      "text/html": [
       "<div>\n",
       "<style scoped>\n",
       "    .dataframe tbody tr th:only-of-type {\n",
       "        vertical-align: middle;\n",
       "    }\n",
       "\n",
       "    .dataframe tbody tr th {\n",
       "        vertical-align: top;\n",
       "    }\n",
       "\n",
       "    .dataframe thead th {\n",
       "        text-align: right;\n",
       "    }\n",
       "</style>\n",
       "<table border=\"1\" class=\"dataframe\">\n",
       "  <thead>\n",
       "    <tr style=\"text-align: right;\">\n",
       "      <th></th>\n",
       "      <th>course_name</th>\n",
       "      <th>duration</th>\n",
       "    </tr>\n",
       "  </thead>\n",
       "  <tbody>\n",
       "    <tr>\n",
       "      <th>0</th>\n",
       "      <td>Data Science</td>\n",
       "      <td>2</td>\n",
       "    </tr>\n",
       "    <tr>\n",
       "      <th>1</th>\n",
       "      <td>Machine Learning</td>\n",
       "      <td>3</td>\n",
       "    </tr>\n",
       "    <tr>\n",
       "      <th>2</th>\n",
       "      <td>Big Data</td>\n",
       "      <td>6</td>\n",
       "    </tr>\n",
       "    <tr>\n",
       "      <th>3</th>\n",
       "      <td>Data Engineer</td>\n",
       "      <td>4</td>\n",
       "    </tr>\n",
       "  </tbody>\n",
       "</table>\n",
       "</div>"
      ],
      "text/plain": [
       "        course_name  duration\n",
       "0      Data Science         2\n",
       "1  Machine Learning         3\n",
       "2          Big Data         6\n",
       "3     Data Engineer         4"
      ]
     },
     "execution_count": 10,
     "metadata": {},
     "output_type": "execute_result"
    }
   ],
   "source": [
    "import pandas as pd\n",
    "\n",
    "course_name = ['Data Science', 'Machine Learning', 'Big Data', 'Data Engineer']\n",
    "duration = [2,3,6,4]\n",
    "\n",
    "df = pd.DataFrame(data = {'course_name' : course_name, 'duration' : duration})\n",
    "df"
   ]
  },
  {
   "cell_type": "code",
   "execution_count": 11,
   "id": "a2a3b60e",
   "metadata": {},
   "outputs": [
    {
     "data": {
      "text/plain": [
       "course_name    Machine Learning\n",
       "duration                      3\n",
       "Name: 1, dtype: object"
      ]
     },
     "execution_count": 11,
     "metadata": {},
     "output_type": "execute_result"
    }
   ],
   "source": [
    "# Q1. Write a code to print the data present in the second row of the dataframe, df.\n",
    "\n",
    "# Ans.\n",
    "\n",
    "df.iloc[1]"
   ]
  },
  {
   "cell_type": "code",
   "execution_count": null,
   "id": "d6bb03ba",
   "metadata": {},
   "outputs": [],
   "source": [
    "# Q2. What is the difference between the functions loc and iloc in pandas.DataFrame?\n",
    "\n",
    "# Ans.\n",
    "\n",
    "# loc is used for label indexing\n",
    "# iloc is used for integer indexing"
   ]
  },
  {
   "cell_type": "code",
   "execution_count": 14,
   "id": "c4992dae",
   "metadata": {},
   "outputs": [
    {
     "name": "stdout",
     "output_type": "stream",
     "text": [
      "course_name    Big Data\n",
      "duration              6\n",
      "Name: 2, dtype: object\n",
      "\n",
      "course_name    Machine Learning\n",
      "duration                      3\n",
      "Name: 1, dtype: object\n"
     ]
    }
   ],
   "source": [
    "# Q3. Reindex the given dataframe using a variable, reindex = [3,0,1,2] and store it in the variable, new_df\n",
    "# then find the output for both new_df.loc[2] and new_df.iloc[2].\n",
    "\n",
    "# Ans.\n",
    "\n",
    "reindex = [3,0,1,2]\n",
    "\n",
    "new_df = df.reindex(reindex)\n",
    "\n",
    "print(new_df.loc[2])\n",
    "print(\"\")\n",
    "print(new_df.iloc[2])\n",
    "\n",
    "# here loc[2] will give row which name is \"2\"\n",
    "# and iloc[2] will give 3rd row because it will start from 0"
   ]
  },
  {
   "cell_type": "code",
   "execution_count": 31,
   "id": "c4ce0582",
   "metadata": {},
   "outputs": [],
   "source": [
    "import pandas as pd\n",
    "import numpy as np\n",
    "columns = ['column_1', 'column_2', 'column_3', 'column_4', 'column_5', 'column_6']\n",
    "indices = [1,2,3,4,5,6]\n",
    "#Creating a dataframe:\n",
    "df1 = pd.DataFrame(np.random.rand(6,6), columns = columns, index = indices)"
   ]
  },
  {
   "cell_type": "code",
   "execution_count": 32,
   "id": "eaa0580f",
   "metadata": {},
   "outputs": [
    {
     "data": {
      "text/html": [
       "<div>\n",
       "<style scoped>\n",
       "    .dataframe tbody tr th:only-of-type {\n",
       "        vertical-align: middle;\n",
       "    }\n",
       "\n",
       "    .dataframe tbody tr th {\n",
       "        vertical-align: top;\n",
       "    }\n",
       "\n",
       "    .dataframe thead th {\n",
       "        text-align: right;\n",
       "    }\n",
       "</style>\n",
       "<table border=\"1\" class=\"dataframe\">\n",
       "  <thead>\n",
       "    <tr style=\"text-align: right;\">\n",
       "      <th></th>\n",
       "      <th>column_1</th>\n",
       "      <th>column_2</th>\n",
       "      <th>column_3</th>\n",
       "      <th>column_4</th>\n",
       "      <th>column_5</th>\n",
       "      <th>column_6</th>\n",
       "    </tr>\n",
       "  </thead>\n",
       "  <tbody>\n",
       "    <tr>\n",
       "      <th>1</th>\n",
       "      <td>0.424460</td>\n",
       "      <td>0.898642</td>\n",
       "      <td>0.176592</td>\n",
       "      <td>0.113679</td>\n",
       "      <td>0.144248</td>\n",
       "      <td>0.094626</td>\n",
       "    </tr>\n",
       "    <tr>\n",
       "      <th>2</th>\n",
       "      <td>0.453317</td>\n",
       "      <td>0.505592</td>\n",
       "      <td>0.379679</td>\n",
       "      <td>0.734834</td>\n",
       "      <td>0.392726</td>\n",
       "      <td>0.880444</td>\n",
       "    </tr>\n",
       "    <tr>\n",
       "      <th>3</th>\n",
       "      <td>0.792487</td>\n",
       "      <td>0.302140</td>\n",
       "      <td>0.929917</td>\n",
       "      <td>0.053380</td>\n",
       "      <td>0.869142</td>\n",
       "      <td>0.678007</td>\n",
       "    </tr>\n",
       "    <tr>\n",
       "      <th>4</th>\n",
       "      <td>0.551371</td>\n",
       "      <td>0.947670</td>\n",
       "      <td>0.597519</td>\n",
       "      <td>0.230658</td>\n",
       "      <td>0.195551</td>\n",
       "      <td>0.184763</td>\n",
       "    </tr>\n",
       "    <tr>\n",
       "      <th>5</th>\n",
       "      <td>0.100442</td>\n",
       "      <td>0.405871</td>\n",
       "      <td>0.747584</td>\n",
       "      <td>0.155856</td>\n",
       "      <td>0.972639</td>\n",
       "      <td>0.825139</td>\n",
       "    </tr>\n",
       "    <tr>\n",
       "      <th>6</th>\n",
       "      <td>0.795516</td>\n",
       "      <td>0.232869</td>\n",
       "      <td>0.159640</td>\n",
       "      <td>0.555666</td>\n",
       "      <td>0.996125</td>\n",
       "      <td>0.242108</td>\n",
       "    </tr>\n",
       "  </tbody>\n",
       "</table>\n",
       "</div>"
      ],
      "text/plain": [
       "   column_1  column_2  column_3  column_4  column_5  column_6\n",
       "1  0.424460  0.898642  0.176592  0.113679  0.144248  0.094626\n",
       "2  0.453317  0.505592  0.379679  0.734834  0.392726  0.880444\n",
       "3  0.792487  0.302140  0.929917  0.053380  0.869142  0.678007\n",
       "4  0.551371  0.947670  0.597519  0.230658  0.195551  0.184763\n",
       "5  0.100442  0.405871  0.747584  0.155856  0.972639  0.825139\n",
       "6  0.795516  0.232869  0.159640  0.555666  0.996125  0.242108"
      ]
     },
     "execution_count": 32,
     "metadata": {},
     "output_type": "execute_result"
    }
   ],
   "source": [
    "df1"
   ]
  },
  {
   "cell_type": "code",
   "execution_count": 33,
   "id": "3a417017",
   "metadata": {},
   "outputs": [
    {
     "name": "stdout",
     "output_type": "stream",
     "text": [
      "column_1    0.519599\n",
      "column_2    0.548797\n",
      "column_3    0.498488\n",
      "column_4    0.307345\n",
      "column_5    0.595072\n",
      "column_6    0.484181\n",
      "dtype: float64\n",
      "Std of col2 :  0.30477411951289113\n"
     ]
    }
   ],
   "source": [
    "# Q4. Write a code to find the following statistical measurements for the above dataframe df1:\n",
    "# (i) mean of each and every column present in the dataframe.\n",
    "# (ii) standard deviation of column, ‘column_2’\n",
    "\n",
    "# Ans.\n",
    "\n",
    "# (i) mean of each and every column present in the dataframe.\n",
    "print(df1.mean())\n",
    "\n",
    "\n",
    "# (ii) standard deviation of column, ‘column_2’\n",
    "print(\"Std of col2 : \" , df1['column_2'].std())"
   ]
  },
  {
   "cell_type": "code",
   "execution_count": 34,
   "id": "9338333a",
   "metadata": {},
   "outputs": [],
   "source": [
    "# Q5. Replace the data present in the second row of column, ‘column_2’ by a string variable then find the\n",
    "# mean of column, column_2.\n",
    "# If you are getting errors in executing it then explain why.\n",
    "# [Hint: To replace the data use df1.loc[] and equate this to string data of your choice.]\n",
    "\n",
    "# Ans.\n",
    "\n",
    "df1.at[2,'column_2'] = \"Nobita\""
   ]
  },
  {
   "cell_type": "code",
   "execution_count": 36,
   "id": "ce8e0a9a",
   "metadata": {},
   "outputs": [],
   "source": [
    "df1['column_2'].mean()\n",
    "\n",
    "# It will give error because mean() operation cant be performed on string datatypes , it required numerical value"
   ]
  },
  {
   "cell_type": "code",
   "execution_count": null,
   "id": "a67d6c70",
   "metadata": {},
   "outputs": [],
   "source": [
    "# Q6. What do you understand about the windows function in pandas and list the types of windows\n",
    "# functions?\n",
    "\n",
    "# Ans.\n",
    "\n",
    "# It is a function that operates on a sliding window of data in a DataFrame or Series. It allows you to perform calculations on a specified window of data points at a time\n",
    "\n",
    "# rolling function\n",
    "# expanding function\n",
    "# exponentially function"
   ]
  },
  {
   "cell_type": "code",
   "execution_count": 43,
   "id": "f3b9c34b",
   "metadata": {},
   "outputs": [
    {
     "name": "stderr",
     "output_type": "stream",
     "text": [
      "C:\\Users\\sadar\\AppData\\Local\\Temp\\ipykernel_8076\\4232082931.py:6: FutureWarning: The pandas.datetime class is deprecated and will be removed from pandas in a future version. Import from datetime module instead.\n",
      "  c_date = pd.datetime.now().strftime(\"%B %Y\")\n"
     ]
    },
    {
     "data": {
      "text/plain": [
       "'May 2023'"
      ]
     },
     "execution_count": 43,
     "metadata": {},
     "output_type": "execute_result"
    }
   ],
   "source": [
    "# Q7. Write a code to print only the current month and year at the time of answering this question.\n",
    "# [Hint: Use pandas.datetime function]\n",
    "\n",
    "# Ans.\n",
    "\n",
    "c_date = pd.datetime.now().strftime(\"%B %Y\")\n",
    "c_date"
   ]
  },
  {
   "cell_type": "code",
   "execution_count": 46,
   "id": "ca8ab812",
   "metadata": {},
   "outputs": [
    {
     "name": "stdout",
     "output_type": "stream",
     "text": [
      "Enter Starting Date 2023-01-09\n",
      "Enter Ending Date 2023-02-01\n"
     ]
    },
    {
     "data": {
      "text/plain": [
       "Timedelta('23 days 00:00:00')"
      ]
     },
     "execution_count": 46,
     "metadata": {},
     "output_type": "execute_result"
    }
   ],
   "source": [
    "# Q8. Write a Python program that takes in two dates as input (in the format YYYY-MM-DD) and\n",
    "# calculates the difference between them in days, hours, and minutes using Pandas time delta. The\n",
    "# program should prompt the user to enter the dates and display the result.\n",
    "\n",
    "# Ans.\n",
    "\n",
    "s_date = pd.to_datetime(input(\"Enter Starting Date \"))\n",
    "e_date = pd.to_datetime(input(\"Enter Ending Date \"))\n",
    "\n",
    "pd.Timedelta(e_date - s_date)"
   ]
  },
  {
   "cell_type": "code",
   "execution_count": 1,
   "id": "3f04d5ae",
   "metadata": {},
   "outputs": [],
   "source": [
    "import pandas as pd\n",
    "import numpy as np"
   ]
  },
  {
   "cell_type": "code",
   "execution_count": null,
   "id": "25e9f354",
   "metadata": {},
   "outputs": [],
   "source": [
    "# Q9. Write a Python program that reads a CSV file containing categorical data and converts a specified\n",
    "# column to a categorical data type. The program should prompt the user to enter the file path, column\n",
    "# name, and category order, and then display the sorted data.\n",
    "\n",
    "# Ans.\n",
    "\n",
    "file_path = input(\"Enter file path \")\n",
    "column_name = input(\"Enter the column name \")\n",
    "category_order = input(\"Enter the category order (comma-separated values) \").split(\",\")\n",
    "\n",
    "data_df = pd.read_csv(file_path)\n",
    "\n",
    "data_df[column_name] = pd.Categorical(data_df[column_name], categories=category_order, ordered=True)\n",
    "\n",
    "sorted_data = data_df.sort_values(column_name)\n",
    "\n",
    "print(sorted_date)"
   ]
  },
  {
   "cell_type": "code",
   "execution_count": null,
   "id": "88358f64",
   "metadata": {},
   "outputs": [],
   "source": [
    "# Q10. Write a Python program that reads a CSV file containing sales data for different products and\n",
    "# visualizes the data using a stacked bar chart to show the sales of each product category over time. The\n",
    "# program should prompt the user to enter the file path and display the chart.\n",
    "\n",
    "# Ans.\n",
    "\n",
    "file_path = input(\"Enter file path \")\n",
    "\n",
    "prd_df = pd.read_csv(file_path)\n",
    "\n",
    "categ_df = prd_df.groupby([\"product_name\"])['item_sold'].sum()\n",
    "\n",
    "categ_df.plot(kind='bar',stacked=True)"
   ]
  },
  {
   "cell_type": "code",
   "execution_count": null,
   "id": "9f32278b",
   "metadata": {},
   "outputs": [],
   "source": [
    "# Q11. You are given a CSV file containing student data that includes the student ID and their test score. Write\n",
    "# a Python program that reads the CSV file, calculates the mean, median, and mode of the test scores, and\n",
    "# displays the results in a table.\n",
    "\n",
    "# Ans.\n",
    "\n",
    "file_path = input(\"Enter file path \")\n",
    "\n",
    "std_df = pd.read_csv(file_path)\n",
    "\n",
    "res_df = pd.DataFrame({\n",
    "    \"Stats\":['Mean','Median','Mode'],\n",
    "    \"Values\":[std_df['test_score'].mean() , std_df['test_score'].median() , [i for i in std_df['test_score'].mode()]]\n",
    "})\n",
    "\n",
    "print(res_df)"
   ]
  }
 ],
 "metadata": {
  "kernelspec": {
   "display_name": "Python 3 (ipykernel)",
   "language": "python",
   "name": "python3"
  },
  "language_info": {
   "codemirror_mode": {
    "name": "ipython",
    "version": 3
   },
   "file_extension": ".py",
   "mimetype": "text/x-python",
   "name": "python",
   "nbconvert_exporter": "python",
   "pygments_lexer": "ipython3",
   "version": "3.10.0"
  }
 },
 "nbformat": 4,
 "nbformat_minor": 5
}
