{
 "cells": [
  {
   "cell_type": "code",
   "execution_count": 2,
   "id": "2fa16cd5",
   "metadata": {},
   "outputs": [
    {
     "data": {
      "text/plain": [
       "1.0"
      ]
     },
     "execution_count": 2,
     "metadata": {},
     "output_type": "execute_result"
    }
   ],
   "source": [
    "# Q1. Pearson correlation coefficient is a measure of the linear relationship between two variables. Suppose\n",
    "# you have collected data on the amount of time students spend studying for an exam and their final exam\n",
    "# scores. Calculate the Pearson correlation coefficient between these two variables and interpret the result.\n",
    "\n",
    "# Ans.\n",
    "\n",
    "import scipy.stats as stats\n",
    "\n",
    "study_time = [10, 15, 20, 25, 30]\n",
    "\n",
    "exam_scores = [75, 80, 85, 90, 95]\n",
    "\n",
    "correlation, p_value = stats.pearsonr(study_time, exam_scores)\n",
    "\n",
    "correlation"
   ]
  },
  {
   "cell_type": "code",
   "execution_count": 3,
   "id": "2a864a42",
   "metadata": {},
   "outputs": [
    {
     "data": {
      "text/plain": [
       "0.9746794344808963"
      ]
     },
     "execution_count": 3,
     "metadata": {},
     "output_type": "execute_result"
    }
   ],
   "source": [
    "# Q2. Spearman's rank correlation is a measure of the monotonic relationship between two variables.\n",
    "# Suppose you have collected data on the amount of sleep individuals get each night and their overall job\n",
    "# satisfaction level on a scale of 1 to 10. Calculate the Spearman's rank correlation between these two\n",
    "# variables and interpret the result.\n",
    "\n",
    "# Ans.\n",
    "\n",
    "import scipy.stats as stats\n",
    "\n",
    "sleep = [7, 6, 8, 5, 6]\n",
    "\n",
    "job_satisfaction = [8, 6, 9, 4, 7]\n",
    "\n",
    "correlation, p_value = stats.spearmanr(sleep, job_satisfaction)\n",
    "\n",
    "correlation"
   ]
  },
  {
   "cell_type": "code",
   "execution_count": 4,
   "id": "1d8b7ce3",
   "metadata": {},
   "outputs": [
    {
     "name": "stdout",
     "output_type": "stream",
     "text": [
      "Pearson correlation coefficient: 0.9799011736461463\n",
      "Spearman's rank correlation coefficient: 0.9803865236196253\n"
     ]
    }
   ],
   "source": [
    "# Q3. Suppose you are conducting a study to examine the relationship between the number of hours of\n",
    "# exercise per week and body mass index (BMI) in a sample of adults. You collected data on both variables\n",
    "# for 50 participants. Calculate the Pearson correlation coefficient and the Spearman's rank correlation\n",
    "# between these two variables and compare the results.\n",
    "\n",
    "# Ans.\n",
    "\n",
    "import scipy.stats as stats\n",
    "import numpy as np\n",
    "\n",
    "exercise_hours = [4, 3, 5, 2, 6, 3, 5, 4, 3, 2, 1, 6, 5, 2, 4, 3, 5, 1, 2, 3, 4, 5, 3, 6, 2,\n",
    "                  4, 5, 3, 2, 1, 4, 6, 3, 5, 2, 4, 3, 6, 2, 5, 1, 3, 4, 5, 2, 6, 4, 3, 5, 2]\n",
    "\n",
    "bmi = [24.5, 22.1, 26.7, 20.5, 27.9, 23.6, 26.1, 25.3, 22.2, 21.0, 19.8, 28.4, 25.8, 21.4, 24.9,\n",
    "       23.0, 25.5, 20.3, 21.5, 23.2, 25.0, 26.8, 23.7, 29.1, 21.3, 25.4, 26.6, 22.8, 21.1, 20.4,\n",
    "       24.8, 28.9, 22.7, 26.2, 20.1, 24.6, 23.5, 28.6, 21.2, 26.3, 19.9, 23.9, 25.6, 26.9, 21.8,\n",
    "       29.4, 24.7, 23.4, 26.0, 20.7]\n",
    "\n",
    "pearson_corr, pearson_p_value = stats.pearsonr(exercise_hours, bmi)\n",
    "\n",
    "spearman_corr, spearman_p_value = stats.spearmanr(exercise_hours, bmi)\n",
    "\n",
    "print(\"Pearson correlation coefficient:\", pearson_corr)\n",
    "print(\"Spearman's rank correlation coefficient:\", spearman_corr)\n"
   ]
  },
  {
   "cell_type": "code",
   "execution_count": 6,
   "id": "c9ad5f94",
   "metadata": {},
   "outputs": [
    {
     "data": {
      "text/plain": [
       "-0.21889936470209945"
      ]
     },
     "execution_count": 6,
     "metadata": {},
     "output_type": "execute_result"
    }
   ],
   "source": [
    "# Q4. A researcher is interested in examining the relationship between the number of hours individuals\n",
    "# spend watching television per day and their level of physical activity. The researcher collected data on\n",
    "# both variables from a sample of 50 participants. Calculate the Pearson correlation coefficient between\n",
    "# these two variables.\n",
    "\n",
    "# Ans.\n",
    "\n",
    "import scipy.stats as stats\n",
    "\n",
    "tv_hours = [3, 2, 4, 3, 5, 2, 3, 4, 2, 1, 6, 3, 5, 2, 4, 3, 5, 1, 2, 3, 4, 5, 3, 6, 2,\n",
    "            4, 5, 3, 2, 1, 4, 6, 3, 5, 2, 4, 3, 6, 2, 5, 1, 3, 4, 5, 2, 6, 4, 3, 5, 2]\n",
    "\n",
    "physical_activity = [2, 3, 1, 2, 1, 3, 2, 1, 3, 4, 2, 3, 1, 2, 3, 1, 4, 2, 3, 1, 2, 1, 3, 2, 4,\n",
    "                     1, 2, 3, 1, 4, 2, 3, 1, 2, 3, 1, 4, 2, 3, 1, 2, 3, 1, 4, 2, 3, 1, 2, 3, 1]\n",
    "\n",
    "correlation, p_value = stats.pearsonr(tv_hours, physical_activity)\n",
    "\n",
    "correlation"
   ]
  },
  {
   "cell_type": "code",
   "execution_count": 7,
   "id": "69387b3a",
   "metadata": {},
   "outputs": [
    {
     "data": {
      "image/png": "[encoded data removed]",
      "text/plain": [
       "<Figure size 640x480 with 1 Axes>"
      ]
     },
     "metadata": {},
     "output_type": "display_data"
    }
   ],
   "source": [
    "# Q5. A survey was conducted to examine the relationship between age and preference for a particular\n",
    "# brand of soft drink. The survey results are shown below:\n",
    "\n",
    "# Ans.\n",
    "\n",
    "import matplotlib.pyplot as plt\n",
    "\n",
    "age = [25, 42, 37, 19, 31, 28]\n",
    "\n",
    "soft_drink_preference = ['Coke', 'Pepsi', 'Mountain Dew', 'Coke', 'Pepsi', 'Coke']\n",
    "\n",
    "plt.scatter(age, soft_drink_preference)\n",
    "\n",
    "plt.xlabel('Age (Years)')\n",
    "plt.ylabel('Soft Drink Preference')\n",
    "\n",
    "plt.show()"
   ]
  },
  {
   "cell_type": "code",
   "execution_count": 8,
   "id": "9d5487f9",
   "metadata": {},
   "outputs": [
    {
     "data": {
      "text/plain": [
       "0.9790753504127941"
      ]
     },
     "execution_count": 8,
     "metadata": {},
     "output_type": "execute_result"
    }
   ],
   "source": [
    "# Q6. A company is interested in examining the relationship between the number of sales calls made per day\n",
    "# and the number of sales made per week. The company collected data on both variables from a sample of\n",
    "# 30 sales representatives. Calculate the Pearson correlation coefficient between these two variables.\n",
    "\n",
    "# Ans.\n",
    "\n",
    "import scipy.stats as stats\n",
    "\n",
    "sales_calls_per_day = [12, 10, 8, 15, 11, 13, 9, 10, 14, 12, 10, 11, 13, 15, 9, 10, 11, 12, 14, 13, 9,\n",
    "                       10, 11, 12, 14, 15, 13, 10, 12, 11]\n",
    "\n",
    "sales_per_week = [8, 7, 5, 10, 7, 9, 6, 7, 10, 8, 7, 7, 9, 10, 6, 7, 7, 8, 10, 9, 6, 7, 7, 8, 10, 10,\n",
    "                  9, 7, 8, 7]\n",
    "\n",
    "correlation, p_value = stats.pearsonr(sales_calls_per_day, sales_per_week)\n",
    "\n",
    "correlation"
   ]
  },
  {
   "cell_type": "code",
   "execution_count": null,
   "id": "05a879f1",
   "metadata": {},
   "outputs": [],
   "source": []
  }
 ],
 "metadata": {
  "kernelspec": {
   "display_name": "Python 3 (ipykernel)",
   "language": "python",
   "name": "python3"
  },
  "language_info": {
   "codemirror_mode": {
    "name": "ipython",
    "version": 3
   },
   "file_extension": ".py",
   "mimetype": "text/x-python",
   "name": "python",
   "nbconvert_exporter": "python",
   "pygments_lexer": "ipython3",
   "version": "3.10.0"
  }
 },
 "nbformat": 4,
 "nbformat_minor": 5
}
