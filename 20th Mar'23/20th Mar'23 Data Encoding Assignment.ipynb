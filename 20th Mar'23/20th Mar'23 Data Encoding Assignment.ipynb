{
 "cells": [
  {
   "cell_type": "code",
   "execution_count": null,
   "id": "2de4d445",
   "metadata": {},
   "outputs": [],
   "source": [
    "# Q1. What is data encoding? How is it useful in data science?\n",
    "\n",
    "# Ans.\n",
    "\n",
    "# Data encoding is the Process of assignimg numeric value to categorical value\n",
    "# It is useful because Machine require numerical value for for understanding"
   ]
  },
  {
   "cell_type": "code",
   "execution_count": null,
   "id": "063bdce0",
   "metadata": {},
   "outputs": [],
   "source": [
    "# Q2. What is nominal encoding? Provide an example of how you would use it in a real-world scenario.\n",
    "\n",
    "# Ans.\n",
    "\n",
    "# Nominal encoding, also known as categorical encoding, is a technique used to represent categorical variables or nominal data as numerical values. \n",
    "# Nominal variables are unordered categories or labels that do not have any inherent order or hierarchy.\n",
    "\n",
    "# In nominal encoding, each unique category or label is assigned a unique numerical value."
   ]
  },
  {
   "cell_type": "code",
   "execution_count": null,
   "id": "6dfd3436",
   "metadata": {},
   "outputs": [],
   "source": [
    "# Q3. In what situations is nominal encoding preferred over one-hot encoding? Provide a practical example.\n",
    "\n",
    "# Ans.\n",
    "\n",
    "# Nominal encoding is preferred over one-hot encoding in situations where the number of unique categories is large, and using one-hot encoding would lead to a high-dimensional and sparse representation of the data."
   ]
  },
  {
   "cell_type": "code",
   "execution_count": null,
   "id": "2a98827b",
   "metadata": {},
   "outputs": [],
   "source": [
    "# Q4. Suppose you have a dataset containing categorical data with 5 unique values. Which encoding\n",
    "# technique would you use to transform this data into a format suitable for machine learning algorithms?\n",
    "# Explain why you made this choice.\n",
    "\n",
    "# Ans.\n",
    "\n",
    "# If the dataset contains categorical data with 5 unique values, one suitable encoding technique for machine learning algorithms would be one-hot encoding.\n",
    "\n",
    "# One-hot encoding is chosen because it is effective in representing categorical variables with a small number of unique values. \n",
    "# In this case, with only 5 unique values, one-hot encoding would create 5 binary variables, where each variable represents one of the unique categories. \n",
    "# The binary variables are mutually exclusive, and each category is represented by a binary value"
   ]
  },
  {
   "cell_type": "code",
   "execution_count": null,
   "id": "28b17b1e",
   "metadata": {},
   "outputs": [],
   "source": [
    "# Q5. In a machine learning project, you have a dataset with 1000 rows and 5 columns. Two of the columns\n",
    "# are categorical, and the remaining three columns are numerical. If you were to use nominal encoding to\n",
    "# transform the categorical data, how many new columns would be created? Show your calculations.\n",
    "\n",
    "# Ans.\n",
    "\n",
    "# We cant say directly without knowing how many unique categories are there"
   ]
  },
  {
   "cell_type": "code",
   "execution_count": null,
   "id": "31680876",
   "metadata": {},
   "outputs": [],
   "source": [
    "# Q6. You are working with a dataset containing information about different types of animals, including their\n",
    "# species, habitat, and diet. Which encoding technique would you use to transform the categorical data into\n",
    "# a format suitable for machine learning algorithms? Justify your answer.\n",
    "\n",
    "# Ans\n",
    "\n",
    "# In this scenario, where we have categorical data representing different types of animals, including their species, habitat, and diet, a suitable encoding technique would be a combination of one-hot encoding \n"
   ]
  },
  {
   "cell_type": "code",
   "execution_count": null,
   "id": "c4dad12d",
   "metadata": {},
   "outputs": [],
   "source": [
    "# Q7.You are working on a project that involves predicting customer churn for a telecommunications\n",
    "# company. You have a dataset with 5 features, including the customer's gender, age, contract type,\n",
    "# monthly charges, and tenure. Which encoding technique(s) would you use to transform the categorical\n",
    "# data into numerical data? Provide a step-by-step explanation of how you would implement the encoding.\n",
    "\n",
    "# Ans.\n",
    "\n",
    "# Here We can see Gender and Contract type are categorical\n",
    "# So we have to convert these into numerical , we can use OHE , because here unique categoties are less"
   ]
  }
 ],
 "metadata": {
  "kernelspec": {
   "display_name": "Python 3 (ipykernel)",
   "language": "python",
   "name": "python3"
  },
  "language_info": {
   "codemirror_mode": {
    "name": "ipython",
    "version": 3
   },
   "file_extension": ".py",
   "mimetype": "text/x-python",
   "name": "python",
   "nbconvert_exporter": "python",
   "pygments_lexer": "ipython3",
   "version": "3.10.0"
  }
 },
 "nbformat": 4,
 "nbformat_minor": 5
}
