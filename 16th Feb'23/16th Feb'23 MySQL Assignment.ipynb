{
 "cells": [
  {
   "cell_type": "code",
   "execution_count": null,
   "id": "d3870013",
   "metadata": {},
   "outputs": [],
   "source": [
    "# Q1. What is a database? Differentiate between SQL and NoSQL databases.\n",
    "\n",
    "# Ans.\n",
    "\n",
    "# In simple word database is an organized collection of information.\n",
    "\n",
    "# SQL stands for Structured Query Language\n",
    "# NoSQL stands fro Not Only Structured Query Language\n",
    "\n",
    "# SQL databses are table based \n",
    "# NoSQL databses are mostly document type oy key:value type\n",
    "    \n",
    "# Example of SQL Database : MySQL , PostgreSQL , MSSQL , MariaDB etc. \n",
    "# Example of NoSQL Database : MongoDB , CouchDB ,Cassandra , HBase ,Redis etc."
   ]
  },
  {
   "cell_type": "code",
   "execution_count": null,
   "id": "38e6a62a",
   "metadata": {},
   "outputs": [],
   "source": [
    "# Q2. What is DDL? Explain why CREATE, DROP, ALTER, and TRUNCATE are used with an example.\n",
    "\n",
    "# Ans.\n",
    "\n",
    "# DDL stands for Data Definition Language\n",
    "# A DDL is a computer language used to create and modify the structure of database objects in a database.\n",
    "\n",
    "# CREATE , DROP , ALTER and TRUNCATE all are used to manage database and table etc.\n",
    "\n",
    "# Suppose we have to create new Database or Table then we have to use CREATE like\n",
    "# \"CREATE DATABSE test\"\n",
    "# \"CREATE TABLE test.test_table\"\n",
    "\n",
    "# if we have to delete database or table\n",
    "# \"DROP DATABASE test\"\n",
    "# \"DROP TABLE test,test_table\"\n",
    "\n",
    "# TRUNCATE is used for delete all rows from table\n",
    "# \"TRUNCATE TABLE test.test_table\"\n",
    "\n",
    "# ALTER is used for changig structure of table which is already created\n",
    "# \"ALTER TABLE test.test_table ADD test_column VARCHAR(100)\""
   ]
  },
  {
   "cell_type": "code",
   "execution_count": null,
   "id": "2a93aa64",
   "metadata": {},
   "outputs": [],
   "source": [
    "# Q3. What is DML? Explain INSERT, UPDATE, and DELETE with an example.\n",
    "\n",
    "# Ans.\n",
    "\n",
    "# DML stands for Data Manipulation Language\n",
    "# DML is used to manipulate data in database\n",
    "\n",
    "# INSERT is used for inserting data into table\n",
    "# \"INSERT INTO test.test_table VALUES(values here)\"\n",
    "\n",
    "# UPDATE is used to modify existing records\n",
    "# \"UPDATE test.test_table SET column_name=value\"\n",
    "\n",
    "# DELETE is used fro deleting data from table\n",
    "# \"DELETE FROM test.test_table WHERE id=1\""
   ]
  },
  {
   "cell_type": "code",
   "execution_count": null,
   "id": "9f2bc3b5",
   "metadata": {},
   "outputs": [],
   "source": [
    "# Q4. What is DQL? Explain SELECT with an example.\n",
    "\n",
    "# Ans.\n",
    "\n",
    "# DQL stands fro Data Query Language\n",
    "\n",
    "# SELECT is used to select data from databse\n",
    "# \"SELECT * FROM test.test_table\""
   ]
  },
  {
   "cell_type": "code",
   "execution_count": null,
   "id": "8c9ca52b",
   "metadata": {},
   "outputs": [],
   "source": [
    "# Q5. Explain Primary Key and Foreign Key.\n",
    "\n",
    "# Ans.\n",
    "\n",
    "# Primary Key\n",
    "# A primary key is a column in a database table that's unique for each record\n",
    "\n",
    "# Foreign Key\n",
    "# A Foreign Key is a field in one table, that refers to the Primary Key in another table."
   ]
  },
  {
   "cell_type": "code",
   "execution_count": null,
   "id": "15c3f317",
   "metadata": {},
   "outputs": [],
   "source": [
    "# Q6. Write a python code to connect MySQL to python. Explain the cursor() and execute() method.\n",
    "\n",
    "# Ans.\n",
    "\n",
    "import mysql.connector\n",
    "mydb = mysql.connector.connect(\n",
    "    host=\"localhost\",\n",
    "    user=\"user_name\",\n",
    "    pasaword=\"user_password\"\n",
    ")\n",
    "\n",
    "# A cursor contains information on a select statement and the rows of data accessed by it. A cursor is used to referred to a program to fetch and process the rows returned by the SQL statement, one at a time.\n",
    "\n",
    "mycursor = mydb.cursor()\n",
    "\n",
    "# execute() allows you to execute sql queries from python\n",
    "\n",
    "mycursor.execute(\"CRTEATE DATABASE test\")"
   ]
  },
  {
   "cell_type": "code",
   "execution_count": null,
   "id": "f912efd0",
   "metadata": {},
   "outputs": [],
   "source": [
    "# Q7. Give the order of execution of SQL clauses in an SQL query.\n",
    "\n",
    "# Ans.\n",
    "\n",
    "from\n",
    "where \n",
    "group by\n",
    "having\n",
    "select\n",
    "order by\n",
    "limit"
   ]
  }
 ],
 "metadata": {
  "kernelspec": {
   "display_name": "Python 3 (ipykernel)",
   "language": "python",
   "name": "python3"
  },
  "language_info": {
   "codemirror_mode": {
    "name": "ipython",
    "version": 3
   },
   "file_extension": ".py",
   "mimetype": "text/x-python",
   "name": "python",
   "nbconvert_exporter": "python",
   "pygments_lexer": "ipython3",
   "version": "3.10.0"
  }
 },
 "nbformat": 4,
 "nbformat_minor": 5
}
