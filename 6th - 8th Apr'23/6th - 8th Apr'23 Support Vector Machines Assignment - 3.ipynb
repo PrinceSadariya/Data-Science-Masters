{
 "cells": [
  {
   "cell_type": "markdown",
   "id": "d064957f",
   "metadata": {},
   "source": [
    "### Q1. In order to predict house price based on several characteristics, such as location, square footage, number of bedrooms, etc., you are developing an SVM regression model. Which regression metric in this situation would be the best to employ?\n",
    "\n",
    "Dataset Link : https://drive.google.com/file/d/1Z9oLpmt6IDRNw7IeNcHYTGeJRYypRSC0/view?\n",
    "\n",
    "\n",
    "\n",
    "When developing an SVM regression model to predict house prices based on various characteristics, the most appropriate regression metric to employ is the Mean Squared Error (MSE).\n",
    "\n",
    "MSE is commonly used as a regression metric because it measures the average squared difference between the predicted values and the actual target values. In the context of house price prediction, MSE will penalize larger prediction errors more heavily, giving a more accurate representation of the model's performance."
   ]
  },
  {
   "cell_type": "markdown",
   "id": "29753359",
   "metadata": {},
   "source": [
    "### Q2. You have built an SVM regression model and are trying to decide between using MSE or R-squared as your evaluation metric. Which metric would be more appropriate if your goal is to predict the actual price of a house as accurately as possible?\n",
    "\n",
    "f your goal is to predict the actual price of a house as accurately as possible, then the Mean Squared Error (MSE) would be more appropriate as the evaluation metric for your SVM regression model.\n",
    "\n",
    "While both MSE and R-squared are common evaluation metrics for regression models, they serve different purposes:\n",
    "\n",
    "**MSE (Mean Squared Error):** As mentioned earlier, MSE measures the average squared difference between the predicted values and the actual target values. It quantifies the magnitude of the errors in the predictions and penalizes larger errors more heavily. A lower MSE indicates that the model's predictions are closer to the actual prices, which aligns with the goal of predicting house prices as accurately as possible.\n",
    "\n",
    "**R-squared (Coefficient of Determination):** R-squared measures the proportion of the variance in the target variable (house prices) that is explained by the independent variables (characteristics like location, square footage, number of bedrooms, etc.). It provides an indication of how well the independent variables can explain the variance in the target variable. While R-squared is useful for understanding the overall goodness-of-fit of the model, it may not directly reflect the accuracy of individual price predictions."
   ]
  },
  {
   "cell_type": "markdown",
   "id": "c7016c8c",
   "metadata": {},
   "source": [
    "### Q3. You have a dataset with a significant number of outliers and are trying to select an appropriate regression metric to use with your SVM model. Which metric would be the most appropriate in this scenario?\n",
    "\n",
    "When dealing with a dataset that contains a significant number of outliers, the most appropriate regression metric to use with your SVM model is the Mean Absolute Error (MAE).\n",
    "\n",
    "Unlike the Mean Squared Error (MSE), which penalizes larger errors more heavily due to the squared term, the MAE calculates the average absolute difference between the predicted values and the actual target values. As a result, the MAE is less sensitive to outliers, making it a more robust metric in the presence of extreme values."
   ]
  },
  {
   "cell_type": "markdown",
   "id": "7969dd7c",
   "metadata": {},
   "source": [
    "### Q4. You have built an SVM regression model using a polynomial kernel and are trying to select the best metric to evaluate its performance. You have calculated both MSE and RMSE and found that both values are very close. Which metric should you choose to use in this case?\n",
    "\n",
    "When the Mean Squared Error (MSE) and Root Mean Squared Error (RMSE) are both very close, it is generally recommended to choose the RMSE as the metric to evaluate the performance of the SVM regression model using a polynomial kernel.\n",
    "\n",
    "The RMSE is simply the square root of the MSE, and it shares the same unit as the target variable (in this case, the house prices). By taking the square root, the RMSE scales the error back to the original unit, making it more interpretable and easier to relate to the problem's context."
   ]
  },
  {
   "cell_type": "markdown",
   "id": "2e754edf",
   "metadata": {},
   "source": [
    "### Q5. You are comparing the performance of different SVM regression models using different kernels (linear, polynomial, and RBF) and are trying to select the best evaluation metric. Which metric would be most appropriate if your goal is to measure how well the model explains the variance in the target variable?\n",
    "\n",
    "If your goal is to measure how well the model explains the variance in the target variable, the most appropriate evaluation metric to use for comparing different SVM regression models with different kernels is the R-squared (Coefficient of Determination).\n",
    "\n",
    "R-squared is a statistical measure that quantifies the proportion of the variance in the target variable (house prices in this case) that is explained by the independent variables (characteristics used for prediction). It provides an indication of how well the model fits the data and how well the chosen features contribute to explaining the variability in the target variable."
   ]
  }
 ],
 "metadata": {
  "kernelspec": {
   "display_name": "Python 3 (ipykernel)",
   "language": "python",
   "name": "python3"
  },
  "language_info": {
   "codemirror_mode": {
    "name": "ipython",
    "version": 3
   },
   "file_extension": ".py",
   "mimetype": "text/x-python",
   "name": "python",
   "nbconvert_exporter": "python",
   "pygments_lexer": "ipython3",
   "version": "3.10.0"
  }
 },
 "nbformat": 4,
 "nbformat_minor": 5
}
