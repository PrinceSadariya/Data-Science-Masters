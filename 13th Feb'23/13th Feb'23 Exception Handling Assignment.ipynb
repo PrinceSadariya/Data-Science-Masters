{
 "cells": [
  {
   "cell_type": "code",
   "execution_count": null,
   "id": "65dd2f5e",
   "metadata": {},
   "outputs": [],
   "source": [
    "# Q1. Explain why we have to use the Exception class while creating a Custom Exception.\n",
    "# Note: Here Exception class refers to the base class for all the exceptions.\n",
    "\n",
    "# Ans.\n",
    "\n",
    "# In python Exception class is available for exceptions.\n",
    "# If we need to create custom exception , then we have to implement Exception class because in Exception class there are many methods and information available which we are going to use in our custom exception"
   ]
  },
  {
   "cell_type": "code",
   "execution_count": null,
   "id": "0b507c40",
   "metadata": {},
   "outputs": [],
   "source": [
    "# Q2. Write a python program to print Python Exception Hierarchy.\n",
    "\n",
    "# Ans.\n",
    "\n",
    "import inspect as ipt\n",
    "def treeClass(cls, ind = 0):\n",
    "    print ('-' * ind, cls.__name__)\n",
    "    for K in cls.__subclasses__():\n",
    "        treeClass(K, ind + 3)\n",
    "print (\"Inbuilt exceptions is: \")\n",
    "\n",
    "ipt.getclasstree(ipt.getmro(BaseException))\n",
    "\n",
    "treeClass(BaseException)"
   ]
  },
  {
   "cell_type": "code",
   "execution_count": null,
   "id": "0461ef5a",
   "metadata": {},
   "outputs": [],
   "source": [
    "# Q3. What errors are defined in the ArithmeticError class? Explain any two with an example.\n",
    "\n",
    "# Ans.\n",
    "\n",
    "# When error is occured threw numeric calculations is called as ArithmeticError\n",
    "\n",
    "# 1. Division By Zero error\n",
    "\n",
    "try:\n",
    "    print(1/0)\n",
    "except ZeroDivisionError as e:\n",
    "    print(e)\n",
    "    \n",
    "    \n",
    "# 2. Overflow Error\n",
    "\n",
    "try:\n",
    "    a = 5.0\n",
    "    for i in range(1,1000):\n",
    "        a = a**i\n",
    "except OverflowError as e:\n",
    "    print(e)"
   ]
  },
  {
   "cell_type": "code",
   "execution_count": null,
   "id": "f504d1db",
   "metadata": {
    "scrolled": true
   },
   "outputs": [],
   "source": [
    "# Q4. Why LookupError class is used? Explain with an example KeyError and IndexError.\n",
    "\n",
    "# Ans.\n",
    "\n",
    "# Lookup error is found when something not found\n",
    "\n",
    "# 1. keyerror\n",
    "\n",
    "d = {\"name\":\"Nobita\",\"age\":20}\n",
    "\n",
    "try:\n",
    "    print(d[\"gender\"])\n",
    "except KeyError as e:\n",
    "    print(\"key not found\",e)\n",
    "\n",
    "\n",
    "# 2. index error\n",
    "\n",
    "l = [1,2,3,4,5,4]\n",
    "\n",
    "try:\n",
    "    print(l[10])\n",
    "except IndexError as e:\n",
    "    print (e)"
   ]
  },
  {
   "cell_type": "code",
   "execution_count": null,
   "id": "bfcd38fd",
   "metadata": {},
   "outputs": [],
   "source": [
    "# Q5. Explain ImportError. What is ModuleNotFoundError?\n",
    "\n",
    "# Ans.\n",
    "\n",
    "# When we are trying to import something which is not available , then ImportError occured\n",
    "\n",
    "# ModuleNotFoundError\n",
    "\n",
    "try :\n",
    "    import XYZ\n",
    "except ModuleNotFoundError as e:\n",
    "    print(e)"
   ]
  },
  {
   "cell_type": "code",
   "execution_count": null,
   "id": "e0a2a5c3",
   "metadata": {},
   "outputs": [],
   "source": [
    "# Q6. List down some best practices for exception handling in python.\n",
    "\n",
    "# Ans.\n",
    "\n",
    "# 1. Use always a specific exception , dont use Exception (Super class)\n",
    "# 2. Try to avoid multiple exception handler\n",
    "# 3. dont use Exception (super class) at the very first exception\n",
    "# 4. print proper message or log error"
   ]
  }
 ],
 "metadata": {
  "kernelspec": {
   "display_name": "Python 3 (ipykernel)",
   "language": "python",
   "name": "python3"
  },
  "language_info": {
   "codemirror_mode": {
    "name": "ipython",
    "version": 3
   },
   "file_extension": ".py",
   "mimetype": "text/x-python",
   "name": "python",
   "nbconvert_exporter": "python",
   "pygments_lexer": "ipython3",
   "version": "3.10.0"
  }
 },
 "nbformat": 4,
 "nbformat_minor": 5
}
