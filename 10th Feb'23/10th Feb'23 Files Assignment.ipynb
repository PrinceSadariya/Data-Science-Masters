{
 "cells": [
  {
   "cell_type": "code",
   "execution_count": null,
   "id": "79406eaf",
   "metadata": {},
   "outputs": [],
   "source": [
    "# Q1. Which function is used to open a file? What are the different modes of opening a file? Explain each mode\n",
    "# of file opening.\n",
    "\n",
    "# Ans.\n",
    "\n",
    "# open() is used to open a file.\n",
    "\n",
    "# 'r'       open for reading \n",
    "# 'w'       open for writing, truncating the file first\n",
    "# 'x'       create a new file and open it for writing\n",
    "# 'a'       open for writing, appending to the end of the file if it exists\n",
    "# 'b'       binary mode\n",
    "# 't'       text mode\n",
    "# '+'       open a disk file for updating (reading and writing)\n",
    "# 'U'       universal newline mode (deprecated)"
   ]
  },
  {
   "cell_type": "code",
   "execution_count": null,
   "id": "6ac05c29",
   "metadata": {},
   "outputs": [],
   "source": [
    "# Q2. Why close() function is used? Why is it important to close a file?\n",
    "\n",
    "# Ans.\n",
    "\n",
    "# close() is used to deallocate file_pointer\n",
    "# It is very important to close file , because while we dont close the file , changes dont show in actual file"
   ]
  },
  {
   "cell_type": "code",
   "execution_count": null,
   "id": "34730975",
   "metadata": {},
   "outputs": [],
   "source": [
    "# Q3. Write a python program to create a text file. Write ‘I want to become a Data Scientist’ in that file. Then\n",
    "# close the file. Open this file and read the content of the file.\n",
    "\n",
    "# Ans.\n",
    "\n",
    "f = open(\"text.txt\",'w')\n",
    "f.write(\"I want to become a Data Scientist\")\n",
    "f.close()\n",
    "\n",
    "f1 = open(\"text.txt\",'r')\n",
    "data = f1.read()\n",
    "print(data)"
   ]
  },
  {
   "cell_type": "code",
   "execution_count": null,
   "id": "69a70de3",
   "metadata": {},
   "outputs": [],
   "source": [
    "# Q4. Explain the following with python code: read(), readline() and readlines().\n",
    "\n",
    "# Ans.\n",
    "\n",
    "# read() is first read all the content and after that return it\n",
    "\n",
    "f1 = open(\"text.txt\",'r')\n",
    "data1 = f1.read()\n",
    "print(data1)\n",
    "f1.close()\n",
    "\n",
    "# readline() is read line by line and return it\n",
    "\n",
    "f2 = open(\"text.txt\",'r')\n",
    "data2 = f2.readline()\n",
    "print(data2)\n",
    "f2.close()\n",
    "\n",
    "# readlines() returns all the lines in format of list\n",
    "\n",
    "f3 = open(\"text.txt\",'r')\n",
    "data3 = f3.readlines()\n",
    "print(data3)\n",
    "f3.close()"
   ]
  },
  {
   "cell_type": "code",
   "execution_count": null,
   "id": "35362798",
   "metadata": {},
   "outputs": [],
   "source": [
    "# Q5. Explain why with statement is used with open(). What is the advantage of using with statement and\n",
    "# open() together?\n",
    "\n",
    "# Ans.\n",
    "\n",
    "# With help of the \"with\" and open() statement we can easily open file in any mode\n",
    "# Biggest advantage of this method is that , we dont have to close file after working on it\n",
    "# Because \"with\" statement call 2 built in methods , __enter__() and __exit__()"
   ]
  },
  {
   "cell_type": "code",
   "execution_count": 8,
   "id": "d4363d0b",
   "metadata": {},
   "outputs": [],
   "source": [
    "# Q6. Explain the write() and writelines() functions. Give a suitable example.\n",
    "\n",
    "# Ans.\n",
    "\n",
    "# The write() function will write the content in the file\n",
    "\n",
    "data = \"Hello This is data\"\n",
    "\n",
    "with open('text1.txt','w') as f:\n",
    "        f.write(data)\n",
    "        \n",
    "        \n",
    "# writelines() function writes the content of a list to a file.\n",
    "\n",
    "data1 = ['hello ','this ','is ','data1 ']\n",
    "\n",
    "with open('text1.txt','w') as f1:\n",
    "        f1.writelines(data1)\n"
   ]
  }
 ],
 "metadata": {
  "kernelspec": {
   "display_name": "Python 3 (ipykernel)",
   "language": "python",
   "name": "python3"
  },
  "language_info": {
   "codemirror_mode": {
    "name": "ipython",
    "version": 3
   },
   "file_extension": ".py",
   "mimetype": "text/x-python",
   "name": "python",
   "nbconvert_exporter": "python",
   "pygments_lexer": "ipython3",
   "version": "3.10.0"
  }
 },
 "nbformat": 4,
 "nbformat_minor": 5
}
