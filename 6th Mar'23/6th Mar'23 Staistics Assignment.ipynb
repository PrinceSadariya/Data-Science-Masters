{
 "cells": [
  {
   "cell_type": "code",
   "execution_count": null,
   "id": "fdf71113",
   "metadata": {},
   "outputs": [],
   "source": [
    "# Q1. What is Statistics?\n",
    "\n",
    "# Ans.\n",
    "\n",
    "# Statistics is the science of collecting , organizing and analyzing data"
   ]
  },
  {
   "cell_type": "code",
   "execution_count": null,
   "id": "b29c3aef",
   "metadata": {},
   "outputs": [],
   "source": [
    "# Q2. Define the different types of statistics and give an example of when each type might be used.\n",
    "\n",
    "# Ans.\n",
    "\n",
    "# There are two types of stattistics:\n",
    "#     1. Descriptive - In descriptive Statistics, the Data or Collection Data are described in a summarized way\n",
    "#     2. Inferential - In inferential Statistics, we make use of it in order to explain the descriptive kind"
   ]
  },
  {
   "cell_type": "code",
   "execution_count": null,
   "id": "7c476b6c",
   "metadata": {},
   "outputs": [],
   "source": [
    "# Q3. What are the different types of data and how do they differ from each other? Provide an example of\n",
    "# each type of data.\n",
    "\n",
    "# Ans.\n",
    "\n",
    "# Mainly there are two types of data:\n",
    "#     1. Quantitative:\n",
    "#         1. Discrete - Number of bank accounts\n",
    "#         2. Continous - Weight , Height , Speed\n",
    "#     2. Qualitative:\n",
    "#         1. Nominal - Gender\n",
    "#         2. Ordinal - Feedback category"
   ]
  },
  {
   "cell_type": "code",
   "execution_count": null,
   "id": "82cb3ebc",
   "metadata": {},
   "outputs": [],
   "source": [
    "# Q4. Categorise the following datasets with respect to quantitative and qualitative data types:\n",
    "\n",
    "# (i) Grading in exam: A+, A, B+, B, C+, C, D, E                                            -> Qualitative\n",
    "# (ii) Colour of mangoes: yellow, green, orange, red                                        -> Qualitative\n",
    "# (iii) Height data of a class: [178.9, 179, 179.5, 176, 177.2, 178.3, 175.8,...]           -> Quantitative\n",
    "# (iv) Number of mangoes exported by a farm: [500, 600, 478, 672, ...]                      -> Quantitative"
   ]
  },
  {
   "cell_type": "code",
   "execution_count": null,
   "id": "67ac4f01",
   "metadata": {},
   "outputs": [],
   "source": [
    "# Q5. Explain the concept of levels of measurement and give an example of a variable for each level.\n",
    "\n",
    "# Ans.\n",
    "\n",
    "# In statistics, level of measurement is a classification that relates the values that are assigned to variables with each other.\n",
    "# In other words, level of measurement is used to describe information within the values.\n",
    "\n",
    "# There are four levels of measurement:\n",
    "#     1. Nominal    - Gender\n",
    "#     2. Ordinal    - Feedback Category\n",
    "#     3. Interval   - Tempature\n",
    "#     4. Ratio      - Marks of Students"
   ]
  },
  {
   "cell_type": "code",
   "execution_count": null,
   "id": "09c32d61",
   "metadata": {},
   "outputs": [],
   "source": [
    "# Q6. Why is it important to understand the level of measurement when analyzing data? Provide an\n",
    "# example to illustrate your answer.\n",
    "\n",
    "# Ans.\n",
    "\n",
    "# It is important to understand the level of measurement of variables in research, \n",
    "# because the level of measurement determines the type of statistical analysis that can be conducted, and, therefore, the type of conclusions that can be drawn from the research."
   ]
  },
  {
   "cell_type": "code",
   "execution_count": null,
   "id": "5ee4e73c",
   "metadata": {},
   "outputs": [],
   "source": [
    "# Q7. How nominal data type is different from ordinal data type.\n",
    "\n",
    "# Ans.\n",
    "\n",
    "# In nominal data there are not ordering or numbering\n",
    "# whereas in Ordinal data numbering and ordering in important "
   ]
  },
  {
   "cell_type": "code",
   "execution_count": null,
   "id": "b0fb6430",
   "metadata": {},
   "outputs": [],
   "source": [
    "# Q8. Which type of plot can be used to display data in terms of range?\n",
    "\n",
    "# Ans.\n",
    "\n",
    "# Box plot"
   ]
  },
  {
   "cell_type": "code",
   "execution_count": null,
   "id": "be492a3f",
   "metadata": {},
   "outputs": [],
   "source": [
    "# Q9. Describe the difference between descriptive and inferential statistics. Give an example of each\n",
    "# type of statistics and explain how they are used.\n",
    "\n",
    "# Ans.\n",
    "\n",
    "#     1. Descriptive - In descriptive Statistics, the Data or Collection Data are described in a summarized way\n",
    "#     2. Inferential - In inferential Statistics, we make use of it in order to explain the descriptive kind\n",
    "\n",
    "# descriptive statistics focuses on summarizing and describing data within a given dataset, \n",
    "# while inferential statistics involves drawing conclusions and making inferences about a population based on sample data\n",
    "\n",
    "# Analysis of height of students in particular class is example of Descriptive\n",
    "# Election exit poll is example of inferential"
   ]
  },
  {
   "cell_type": "code",
   "execution_count": null,
   "id": "445fe64a",
   "metadata": {},
   "outputs": [],
   "source": [
    "# Q10. What are some common measures of central tendency and variability used in statistics? Explain\n",
    "# how each measure can be used to describe a dataset.\n",
    "\n",
    "# Ans.\n",
    "\n",
    "# Central tendency:\n",
    "#     Mean\n",
    "#     Median\n",
    "#     Mode\n",
    "\n",
    "# Variability:\n",
    "#     Variance\n",
    "#     std"
   ]
  }
 ],
 "metadata": {
  "kernelspec": {
   "display_name": "Python 3 (ipykernel)",
   "language": "python",
   "name": "python3"
  },
  "language_info": {
   "codemirror_mode": {
    "name": "ipython",
    "version": 3
   },
   "file_extension": ".py",
   "mimetype": "text/x-python",
   "name": "python",
   "nbconvert_exporter": "python",
   "pygments_lexer": "ipython3",
   "version": "3.10.0"
  }
 },
 "nbformat": 4,
 "nbformat_minor": 5
}
