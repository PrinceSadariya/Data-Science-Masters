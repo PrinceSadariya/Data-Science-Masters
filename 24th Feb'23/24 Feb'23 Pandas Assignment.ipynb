{
 "cells": [
  {
   "cell_type": "code",
   "execution_count": null,
   "id": "0a309315",
   "metadata": {},
   "outputs": [],
   "source": [
    "import pandas as pd"
   ]
  },
  {
   "cell_type": "code",
   "execution_count": null,
   "id": "a19a2974",
   "metadata": {},
   "outputs": [],
   "source": [
    "# Q1. List any five functions of the pandas library with execution.\n",
    "\n",
    "# Ans.\n",
    "\n",
    "df = pd.DataFrame({\"age\":[12,34,23,34,45,67,4,6,89]})\n",
    "\n",
    "# 1. head()\n",
    "df.head()\n",
    "\n",
    "# 2. tail()\n",
    "df.tail()\n",
    "\n",
    "# 3.shape\n",
    "df.shape\n",
    "\n",
    "# 4.info()\n",
    "df.info()\n",
    "\n",
    "# 5.describe()\n",
    "df.describe()"
   ]
  },
  {
   "cell_type": "code",
   "execution_count": null,
   "id": "ffbc09d5",
   "metadata": {},
   "outputs": [],
   "source": [
    "# Q2. Given a Pandas DataFrame df with columns 'A', 'B', and 'C', write a Python function to re-index the\n",
    "# DataFrame with a new index that starts from 1 and increments by 2 for each row.\n",
    "\n",
    "# Ans.\n",
    "\n",
    "def reindex_dataframe(df):\n",
    "    new_index = pd.RangeIndex(start=1, step=2, stop=len(df) * 2)\n",
    "    df = df.reset_index(drop=True)\n",
    "    df.index = new_index\n",
    "    return df"
   ]
  },
  {
   "cell_type": "code",
   "execution_count": 14,
   "id": "d3c5a4df",
   "metadata": {},
   "outputs": [],
   "source": [
    "# Q3. You have a Pandas DataFrame df with a column named 'Values'. Write a Python function that\n",
    "# iterates over the DataFrame and calculates the sum of the first three values in the 'Values' column. The\n",
    "# function should print the sum to the console.\n",
    "\n",
    "# Ans.\n",
    "\n",
    "def three_age_sum(df):\n",
    "    print(df[0:3]['values'].sum())"
   ]
  },
  {
   "cell_type": "code",
   "execution_count": null,
   "id": "0c0eb625",
   "metadata": {},
   "outputs": [],
   "source": [
    "# Q4. Given a Pandas DataFrame df with a column 'Text', write a Python function to create a new column\n",
    "# 'Word_Count' that contains the number of words in each row of the 'Text' column.\n",
    "\n",
    "# Ans.\n",
    "\n",
    "df['Word_Count'] = df['Text'].apply(lambda x : len(x.split()))"
   ]
  },
  {
   "cell_type": "code",
   "execution_count": null,
   "id": "c3259bab",
   "metadata": {},
   "outputs": [],
   "source": [
    "# Q5. How are DataFrame.size() and DataFrame.shape() different?\n",
    "\n",
    "# Ans.\n",
    "\n",
    "size() property return a total number of cells in given dataframe,\n",
    "shape() property return a tuple of array dimensions that tells the number of rows and columns of a given DataFrame"
   ]
  },
  {
   "cell_type": "code",
   "execution_count": null,
   "id": "25695ac0",
   "metadata": {},
   "outputs": [],
   "source": [
    "# Q6. Which function of pandas do we use to read an excel file?\n",
    "\n",
    "# Ans.\n",
    "\n",
    "df = pd.read_excel(\"PATH\")"
   ]
  },
  {
   "cell_type": "code",
   "execution_count": null,
   "id": "0bec216e",
   "metadata": {},
   "outputs": [],
   "source": [
    "# Q7. You have a Pandas DataFrame df that contains a column named 'Email' that contains email\n",
    "# addresses in the format 'username@domain.com'. Write a Python function that creates a new column\n",
    "# 'Username' in df that contains only the username part of each email address.\n",
    "\n",
    "# Ans.\n",
    "\n",
    "df['Username'] = df['Email'].apply(lambda x:x.split(\"@\")[0])"
   ]
  },
  {
   "cell_type": "code",
   "execution_count": null,
   "id": "c3399011",
   "metadata": {},
   "outputs": [],
   "source": [
    "# Q8. You have a Pandas DataFrame df with columns 'A', 'B', and 'C'. Write a Python function that selects\n",
    "# all rows where the value in column 'A' is greater than 5 and the value in column 'B' is less than 10. The\n",
    "# function should return a new DataFrame that contains only the selected rows.\n",
    "\n",
    "# Ans.\n",
    "\n",
    "def q8_func(df):\n",
    "    df1 = df[(df[\"a\"] > 5) & (df[\"b\"] < 10)]\n",
    "    return df1"
   ]
  },
  {
   "cell_type": "code",
   "execution_count": null,
   "id": "958acd99",
   "metadata": {},
   "outputs": [],
   "source": [
    "# Q9. Given a Pandas DataFrame df with a column 'Values', write a Python function to calculate the mean,\n",
    "# median, and standard deviation of the values in the 'Values' column.\n",
    "\n",
    "# Ans.\n",
    "\n",
    "values_mean = df['Values'].mean()\n",
    "values_median = df[\"Values\"].median()\n",
    "values_std = df[\"Values\"].std()"
   ]
  },
  {
   "cell_type": "code",
   "execution_count": 2,
   "id": "24aac7fc",
   "metadata": {},
   "outputs": [],
   "source": [
    "# Q10. Given a Pandas DataFrame df with a column 'Sales' and a column 'Date', write a Python function to\n",
    "# create a new column 'MovingAverage' that contains the moving average of the sales for the past 7 days\n",
    "# for each row in the DataFrame. The moving average should be calculated using a window of size 7 and\n",
    "# should include the current day.\n",
    "\n",
    "# Ans.\n",
    "\n",
    "df[\"MovingAverage\"] = df[\"Sales\"].rolling(window=7,min_periods=1).mean()"
   ]
  },
  {
   "cell_type": "code",
   "execution_count": null,
   "id": "5b2d4e42",
   "metadata": {},
   "outputs": [],
   "source": [
    "# Q11. You have a Pandas DataFrame df with a column 'Date'. Write a Python function that creates a new\n",
    "# column 'Weekday' in the DataFrame. The 'Weekday' column should contain the weekday name (e.g.\n",
    "# Monday, Tuesday) corresponding to each date in the 'Date' column.\n",
    "\n",
    "# Ans.\n",
    "\n",
    "def test_date(df):\n",
    "    df['Weekday'] = df[\"Date\"].apply(lambda x : x.day_name())\n",
    "    \n",
    "test_date(df)"
   ]
  },
  {
   "cell_type": "code",
   "execution_count": null,
   "id": "43176e70",
   "metadata": {},
   "outputs": [],
   "source": [
    "# Q12. Given a Pandas DataFrame df with a column 'Date' that contains timestamps, write a Python\n",
    "# function to select all rows where the date is between '2023-01-01' and '2023-01-31'.\n",
    "\n",
    "# Ans.\n",
    "\n",
    "start_date = pd.to_datetime(\"2023-01-01\")\n",
    "end_date = pd.to_datetime(\"2023-01-31\")\n",
    "    \n",
    "df[(df['Date'] >= start_date) & (df['Date']<=end_date)]"
   ]
  },
  {
   "cell_type": "code",
   "execution_count": null,
   "id": "f2c6605b",
   "metadata": {},
   "outputs": [],
   "source": [
    "# Q13. To use the basic functions of pandas, what is the first and foremost necessary library that needs to\n",
    "# be imported?\n",
    "\n",
    "# We have to import \"pandas\" library\n",
    "# like\n",
    "import pandas as pd"
   ]
  }
 ],
 "metadata": {
  "kernelspec": {
   "display_name": "Python 3 (ipykernel)",
   "language": "python",
   "name": "python3"
  },
  "language_info": {
   "codemirror_mode": {
    "name": "ipython",
    "version": 3
   },
   "file_extension": ".py",
   "mimetype": "text/x-python",
   "name": "python",
   "nbconvert_exporter": "python",
   "pygments_lexer": "ipython3",
   "version": "3.10.0"
  }
 },
 "nbformat": 4,
 "nbformat_minor": 5
}
