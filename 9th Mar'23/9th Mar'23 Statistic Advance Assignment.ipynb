{
 "cells": [
  {
   "cell_type": "markdown",
   "id": "b597ef95",
   "metadata": {},
   "source": [
    "### Q1: What are the Probability Mass Function (PMF) and Probability Density Function (PDF)? Explain with an example.\n",
    "\n",
    "The Probability Mass Function (PMF) and Probability Density Function (PDF) are concepts used in probability theory and statistics to describe the probabilities of random variables.\n",
    "\n",
    "**Probability Mass Function (PMF):**\n",
    "The Probability Mass Function (PMF) is a function that gives the probability of a discrete random variable taking on a specific value. For each possible value of the discrete random variable, the PMF provides the probability of observing that value. The PMF must satisfy two properties: all probabilities are non-negative, and the sum of all probabilities is equal to 1.\n",
    "    \n",
    "**Probability Density Function (PDF):**\n",
    "The Probability Density Function (PDF) is a function that gives the probability density (probability per unit interval) for continuous random variables. Unlike PMF, PDF is used for continuous random variables, where the probability of any single value is typically zero since there are infinite possible values. Instead, the area under the PDF curve over a range of values represents the probability of the variable falling within that range."
   ]
  },
  {
   "cell_type": "markdown",
   "id": "e1e0bca9",
   "metadata": {},
   "source": [
    "### Q2: What is Cumulative Density Function (CDF)? Explain with an example. Why CDF is used?\n",
    "\n",
    "The Cumulative Density Function (CDF) is a concept used in probability theory and statistics to describe the cumulative probability distribution of a random variable. The CDF gives the probability that a random variable is less than or equal to a specific value. It provides a complete picture of the probabilities associated with the random variable over its entire range."
   ]
  },
  {
   "cell_type": "markdown",
   "id": "46c28469",
   "metadata": {},
   "source": [
    "### Q3: What are some examples of situations where the normal distribution might be used as a model? Explain how the parameters of the normal distribution relate to the shape of the distribution.\n",
    "\n",
    "The normal distribution, also known as the Gaussian distribution, is one of the most commonly used probability distributions in statistics. It is used as a model in various situations where data tends to cluster around a central value and has a symmetric, bell-shaped distribution. Here are some examples of situations where the normal distribution might be used as a model:\n",
    "\n",
    "**Heights and Weights:** The heights and weights of a large population tend to follow approximately normal distributions. While there might be some variation due to factors like age and gender, when considering a sufficiently large and diverse sample, the distribution tends to be close to normal.\n",
    "\n",
    "**Test Scores:** In educational testing, the scores of a large number of students on standardized exams often follow a normal distribution, with a peak around the mean score.\n",
    "\n",
    "**Measurement Errors:** Measurement errors in various scientific experiments or industrial processes are often assumed to be normally distributed.\n",
    "\n",
    "**IQ Scores:** IQ (Intelligence Quotient) scores of the general population are often modeled using a normal distribution."
   ]
  },
  {
   "cell_type": "markdown",
   "id": "650a5fc6",
   "metadata": {},
   "source": [
    "### Q4: Explain the importance of Normal Distribution. Give a few real-life examples of Normal Distribution.\n",
    "\n",
    "The normal distribution holds significant importance in statistics and various fields due to its unique properties and widespread applicability. Some of the key reasons for the importance of the normal distribution are as follows:\n",
    "\n",
    "**Central Limit Theorem:** One of the most fundamental concepts in statistics, the Central Limit Theorem, states that the sum or average of a large number of independent and identically distributed random variables will tend to follow a normal distribution, regardless of the original distribution of the variables. This property is crucial for many statistical inference methods and hypothesis testing.\n",
    "\n",
    "**Predictive Modeling:** The normal distribution is often used as an assumption in predictive modeling and statistical analysis. Many statistical methods, such as linear regression, assume that the errors or residuals follow a normal distribution.\n",
    "\n",
    "**Simplicity and Analytical Convenience:** The normal distribution is mathematically well-behaved, and its probability density function has a closed-form expression. This makes it convenient for mathematical analysis and allows for straightforward calculations of probabilities and statistical measures.\n",
    "\n",
    "**Parameter Estimation:** The normal distribution plays a crucial role in maximum likelihood estimation and other parameter estimation techniques. Many estimators are derived under the assumption of normally distributed errors."
   ]
  },
  {
   "cell_type": "markdown",
   "id": "eecc9e85",
   "metadata": {},
   "source": [
    "### Q5: What is Bernaulli Distribution? Give an Example. What is the difference between Bernoulli Distribution and Binomial Distribution?\n",
    "\n",
    "\n",
    "The Bernoulli distribution is a discrete probability distribution that models a random experiment with two possible outcomes, typically labeled as success (usually denoted as 1) and failure (usually denoted as 0). The distribution describes a single trial in which there are only two possible outcomes, and the probability of success (p) and failure (q = 1 - p) remain constant for each trial."
   ]
  },
  {
   "cell_type": "markdown",
   "id": "3a708067",
   "metadata": {},
   "source": [
    "### Q6. Consider a dataset with a mean of 50 and a standard deviation of 10. If we assume that the dataset is normally distributed, what is the probability that a randomly selected observation will be greater than 60? Use the appropriate formula and show your calculations.\n",
    "\n",
    "To find the probability that a randomly selected observation from the dataset will be greater than 60, we can use the properties of the standard normal distribution and z-scores.\n",
    "\n",
    "The z-score represents the number of standard deviations a data point is away from the mean. It can be calculated using the formula:\n",
    "\n",
    "z = (X - μ) / σ\n",
    "\n",
    "where:\n",
    "X = the value we want to find the z-score for (in this case, X = 60)\n",
    "μ = the mean of the dataset (given as 50)\n",
    "σ = the standard deviation of the dataset (given as 10)\n",
    "\n",
    "Let's calculate the z-score:\n",
    "\n",
    "z = (60 - 50) / 10\n",
    "z = 1\n",
    "\n",
    "Now, we need to find the probability that a randomly selected observation from the standard normal distribution will be greater than this z-score (greater than 1). We can look up this probability from a standard normal distribution table or use a calculator.\n",
    "\n",
    "The probability that a standard normal random variable is greater than 1 is approximately 0.1587.\n",
    "\n",
    "So, the probability that a randomly selected observation from the dataset with a mean of 50 and a standard deviation of 10 will be greater than 60 is approximately 0.1587 or 15.87%."
   ]
  },
  {
   "cell_type": "markdown",
   "id": "a870df63",
   "metadata": {},
   "source": [
    "### Q7: Explain uniform Distribution with an example.\n",
    "\n",
    "The uniform distribution is a probability distribution that occurs when all outcomes in a given range are equally likely. In other words, in a uniform distribution, every value within the specified interval has an equal probability of occurring. The probability density function (PDF) of the uniform distribution is a constant over the range of values and zero outside that range."
   ]
  },
  {
   "cell_type": "markdown",
   "id": "e780b971",
   "metadata": {},
   "source": [
    "### Q8: What is the z score? State the importance of the z score.\n",
    "\n",
    "The z-score, also known as the standard score or standardized value, is a statistical measure that indicates how many standard deviations a data point is away from the mean of a dataset. It is a way to standardize data and compare individual data points to the overall distribution of the data.\n",
    "\n",
    "The z-score of a data point 'X' in a dataset with mean 'μ' and standard deviation 'σ' is calculated using the following formula:\n",
    "\n",
    "z = (X - μ) / σ\n",
    "\n",
    "The z-score tells us how far a data point is from the mean in terms of standard deviations. If the z-score is positive, it means the data point is above the mean, and if it is negative, it means the data point is below the mean. A z-score of zero indicates that the data point is exactly at the mean."
   ]
  },
  {
   "cell_type": "markdown",
   "id": "1baff33a",
   "metadata": {},
   "source": [
    "### Q9: What is Central Limit Theorem? State the significance of the Central Limit Theorem.\n",
    "\n",
    "The Central Limit Theorem (CLT) is a fundamental concept in statistics that describes the behavior of the sample means or sample sums from a large number of independent and identically distributed random variables. It states that as the sample size increases, the distribution of the sample means or sample sums approaches a normal distribution, regardless of the original shape of the population distribution.\n",
    "\n",
    "In simpler terms, the Central Limit Theorem says that if we take multiple random samples from any population, calculate the mean or sum for each sample, and plot the distribution of those means or sums, the resulting distribution will be approximately normal, even if the original population is not normally distributed."
   ]
  },
  {
   "cell_type": "markdown",
   "id": "096d4bfa",
   "metadata": {},
   "source": [
    "### Q10: State the assumptions of the Central Limit Theorem.\n",
    "\n",
    "The Central Limit Theorem (CLT) is a fundamental concept in statistics, but it relies on certain assumptions to hold true. These assumptions are necessary for the CLT to apply accurately to a given set of data. The main assumptions of the Central Limit Theorem are as follows:\n",
    "\n",
    "**Independent and Identically Distributed (i.i.d.) Samples:**\n",
    "The samples used to calculate the sample means or sample sums should be selected independently and randomly from the population. Additionally, each sample should be drawn from the same underlying population distribution.\n",
    "\n",
    "**Finite Variance:**\n",
    "The population from which the samples are drawn must have a finite variance. This assumption ensures that the variability of the population is bounded and not too extreme.\n",
    "\n",
    "**Sample Size:**\n",
    "The sample size should be sufficiently large. Although there is no strict rule for what constitutes a \"sufficiently large\" sample size, a common guideline is that the sample size (n) should be at least 30. However, even for smaller sample sizes, the approximation to a normal distribution tends to improve.\n",
    "\n",
    "**No Outliers:**\n",
    "The presence of extreme outliers or influential data points in the sample may affect the accuracy of the CLT. In such cases, the central limit theorem may not hold, and alternative statistical methods may be required."
   ]
  }
 ],
 "metadata": {
  "kernelspec": {
   "display_name": "Python 3 (ipykernel)",
   "language": "python",
   "name": "python3"
  },
  "language_info": {
   "codemirror_mode": {
    "name": "ipython",
    "version": 3
   },
   "file_extension": ".py",
   "mimetype": "text/x-python",
   "name": "python",
   "nbconvert_exporter": "python",
   "pygments_lexer": "ipython3",
   "version": "3.10.0"
  }
 },
 "nbformat": 4,
 "nbformat_minor": 5
}
