{
 "cells": [
  {
   "cell_type": "code",
   "execution_count": null,
   "id": "9bfd5562",
   "metadata": {},
   "outputs": [],
   "source": [
    "# Q1. What is multithreading in python? Why is it used? Name the module used to handle threads in python\n",
    "\n",
    "# Ans.\n",
    "\n",
    "# Multithreading is a threading technique in Python to run multiple threads concurrently by switching between threads with a CPU.\n",
    "# Multithreading enables us to run multiple threads concurrently\n",
    "\n",
    "# With help of the multithreading we can utilize our CPU better and we can execute multiple programs.\n",
    "\n",
    "# With help of the \"threading\" module we can handle threads in python"
   ]
  },
  {
   "cell_type": "code",
   "execution_count": null,
   "id": "4b3c05e7",
   "metadata": {},
   "outputs": [],
   "source": [
    "# Q2. Why threading module used? Write the use of the following functions\n",
    "# 1. activeCount()\n",
    "# 2. currentThread()\n",
    "# 3. enumerate()\n",
    "\n",
    "# for geting ability of the multithreading in our program \"threading\" module is used\n",
    "\n",
    "# 1. activeCount()\n",
    "# returns the number of thread objects that are active \n",
    "\n",
    "# 2. currentThread()\n",
    "# returns the current thread object\n",
    "\n",
    "# 3. enumerate()\n",
    "# returns a list of all thread objects which is currently alive"
   ]
  },
  {
   "cell_type": "code",
   "execution_count": null,
   "id": "d7400d24",
   "metadata": {},
   "outputs": [],
   "source": [
    "# Q3. Explain the following functions\n",
    "# 1. run()\n",
    "# 2. start()\n",
    "# 3. join()\n",
    "# 4. isAlive()\n",
    "\n",
    "# Ans.\n",
    "\n",
    "# 1. run()\n",
    "# run() method execute current active thread object\n",
    "\n",
    "# 2. start()\n",
    "# start() method start a thread by calling the run() method\n",
    "\n",
    "# 3. join()\n",
    "# join() method delays a programs flow until the current thread has been completely done\n",
    "\n",
    "# 4. is_alive()\n",
    "# is_alive() check whether that thread is alive or not"
   ]
  },
  {
   "cell_type": "code",
   "execution_count": null,
   "id": "a61556c6",
   "metadata": {},
   "outputs": [],
   "source": [
    "# Q4. Write a python program to create two threads. Thread one must print the list of squares and thread\n",
    "# two must print the list of cubes\n",
    "\n",
    "# Ans.\n",
    "\n",
    "import threading\n",
    "\n",
    "def sqr(l):\n",
    "    for i in l:\n",
    "        print(i**2)\n",
    "        \n",
    "def cube(l):\n",
    "    for i in l:\n",
    "        print(i**3)\n",
    "        \n",
    "m_list = [range(1,11)]\n",
    "        \n",
    "thread_sqr = threading.Thread(target=sqr,args=(m_list))\n",
    "thread_sqr.start()\n",
    "\n",
    "thread_cube = threading.Thread(target=cube,args=(m_list))\n",
    "thread_cube.start()"
   ]
  },
  {
   "cell_type": "code",
   "execution_count": null,
   "id": "6e968e3e",
   "metadata": {},
   "outputs": [],
   "source": [
    "# Q5. State advantages and disadvantages of multithreading\n",
    "\n",
    "# Ans.\n",
    "\n",
    "# Advantages\n",
    "\n",
    "# CPU Utilization\n",
    "# Resource Sharing\n",
    "# Scalability\n",
    "\n",
    "# Disadvantages\n",
    "\n",
    "# Complexity\n",
    "# Hard to implement\n",
    "# Hard to debug\n"
   ]
  },
  {
   "cell_type": "code",
   "execution_count": null,
   "id": "ee16b9e5",
   "metadata": {},
   "outputs": [],
   "source": [
    "# Q6. Explain deadlocks and race conditions.\n",
    "\n",
    "# A deadlock is a concurrency failure mode where a thread or threads wait for a condition that never occurs. \n",
    "# The result is that the deadlock threads are unable to progress and the program is stuck\n",
    "\n",
    "# A race condition is an undesirable situation that occurs when a device or system attempts to perform two or more operations at the same time"
   ]
  }
 ],
 "metadata": {
  "kernelspec": {
   "display_name": "Python 3 (ipykernel)",
   "language": "python",
   "name": "python3"
  },
  "language_info": {
   "codemirror_mode": {
    "name": "ipython",
    "version": 3
   },
   "file_extension": ".py",
   "mimetype": "text/x-python",
   "name": "python",
   "nbconvert_exporter": "python",
   "pygments_lexer": "ipython3",
   "version": "3.10.0"
  }
 },
 "nbformat": 4,
 "nbformat_minor": 5
}
